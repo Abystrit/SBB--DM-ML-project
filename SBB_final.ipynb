{
  "nbformat": 4,
  "nbformat_minor": 0,
  "metadata": {
    "colab": {
      "provenance": []
    },
    "kernelspec": {
      "name": "python3",
      "display_name": "Python 3"
    },
    "language_info": {
      "name": "python"
    }
  },
  "cells": [
    {
      "cell_type": "markdown",
      "source": [
        "# Data Mining and Machine Learning - Project\n",
        "\n",
        "## Detecting Difficulty Level of French Texts\n",
        "\n",
        "### Step by step guidelines\n",
        "\n",
        "The following are a set of step by step guidelines to help you get started with your project for the Data Mining and Machine Learning class. \n",
        "To test what you learned in the class, we will hold a competition. You will create a classifier that predicts how the level of some text in French (A1,..., C2). The team with the highest rank will get some goodies in the last class (some souvenirs from tech companies: Amazon, LinkedIn, etc).\n",
        "\n",
        "#### 1. 📓 Read the data into your colab notebook. There should be one code notebook per team, but all team members can participate and contribute code. \n",
        "\n",
        "You can use either direct the Kaggle API and your Kaggle credentials (as explained below and **entirely optional**), or dowload the data form Kaggle and upload it onto your team's GitHub repository under the data subfolder.\n",
        "\n",
        "#### 2. 💎 Train your models and upload the code under your team's GitHub repo. Set the `random_state=0`.\n",
        "- baseline\n",
        "- logistic regression with TFidf vectoriser (simple, no data cleaning)\n",
        "- KNN & hyperparameter optimisation (simple, no data cleaning)\n",
        "- Decision Tree classifier & hyperparameter optimisation (simple, no data cleaning)\n",
        "- Random Forests classifier (simple, no data cleaning)\n",
        "- another technique or combination of techniques of your choice\n",
        "\n",
        "BE CREATIVE! You can use whatever method you want, in order to climb the leaderboard. The only rule is that it must be your own work. Given that, you can use all the online resources you want. \n",
        "\n",
        "#### 3. 🎥 Create a YouTube video (10-15 minutes) of your solution and embed it in your notebook. Explain the algorithms used and the evaluation of your solutions. *Select* projects will also be presented live by the group during the last class."
      ],
      "metadata": {
        "id": "NB-JTc9cUcii"
      }
    },
    {
      "cell_type": "markdown",
      "source": [
        "### 1. Read data into your notebook with the Kaggle API."
      ],
      "metadata": {
        "id": "731AyogdU2TY"
      }
    },
    {
      "cell_type": "code",
      "source": [
        "# reading in the data via the Kaggle API\n",
        "\n",
        "# mount your Google Drive\n",
        "from google.colab import drive\n",
        "drive.mount('/content/drive', force_remount=True)\n",
        "\n",
        "# install Kaggle\n",
        "! pip install kaggle\n",
        "!mkdir ~/.kaggle\n",
        "\n",
        "# read in your Kaggle credentials from Google Drive\n",
        "!cp /content/drive/MyDrive/kaggle.json ~/.kaggle/kaggle.json\n",
        "!mkdir data\n",
        "\n",
        "# connect drive to colab.\n",
        "from google.colab import drive\n",
        "drive.mount('/content/drive')\n",
        "\n",
        "# download the dataset from the competition page\n",
        "! kaggle competitions download -c detecting-french-texts-difficulty-level-2022\n",
        "\n",
        "# unzip data\n",
        "!unzip \"detecting-french-texts-difficulty-level-2022.zip\" -d data\n",
        "\n"
      ],
      "metadata": {
        "colab": {
          "base_uri": "https://localhost:8080/"
        },
        "id": "Xm2UiE3iUvv-",
        "outputId": "5cac3778-4ce3-44d6-d7e4-91d5803fac42"
      },
      "execution_count": 92,
      "outputs": [
        {
          "metadata": {
            "tags": null
          },
          "name": "stdout",
          "output_type": "stream",
          "text": [
            "Mounted at /content/drive\n",
            "Looking in indexes: https://pypi.org/simple, https://us-python.pkg.dev/colab-wheels/public/simple/\n",
            "Requirement already satisfied: kaggle in /usr/local/lib/python3.8/dist-packages (1.5.12)\n",
            "Requirement already satisfied: python-slugify in /usr/local/lib/python3.8/dist-packages (from kaggle) (7.0.0)\n",
            "Requirement already satisfied: urllib3 in /usr/local/lib/python3.8/dist-packages (from kaggle) (1.25.11)\n",
            "Requirement already satisfied: python-dateutil in /usr/local/lib/python3.8/dist-packages (from kaggle) (2.8.2)\n",
            "Requirement already satisfied: requests in /usr/local/lib/python3.8/dist-packages (from kaggle) (2.23.0)\n",
            "Requirement already satisfied: certifi in /usr/local/lib/python3.8/dist-packages (from kaggle) (2022.12.7)\n",
            "Requirement already satisfied: tqdm in /usr/local/lib/python3.8/dist-packages (from kaggle) (4.64.1)\n",
            "Requirement already satisfied: six>=1.10 in /usr/local/lib/python3.8/dist-packages (from kaggle) (1.15.0)\n",
            "Requirement already satisfied: text-unidecode>=1.3 in /usr/local/lib/python3.8/dist-packages (from python-slugify->kaggle) (1.3)\n",
            "Requirement already satisfied: chardet<4,>=3.0.2 in /usr/local/lib/python3.8/dist-packages (from requests->kaggle) (3.0.4)\n",
            "Requirement already satisfied: idna<3,>=2.5 in /usr/local/lib/python3.8/dist-packages (from requests->kaggle) (2.10)\n",
            "mkdir: cannot create directory ‘/root/.kaggle’: File exists\n",
            "mkdir: cannot create directory ‘data’: File exists\n",
            "Drive already mounted at /content/drive; to attempt to forcibly remount, call drive.mount(\"/content/drive\", force_remount=True).\n",
            "detecting-french-texts-difficulty-level-2022.zip: Skipping, found more recently modified local copy (use --force to force download)\n",
            "Archive:  detecting-french-texts-difficulty-level-2022.zip\n",
            "replace data/sample_submission.csv? [y]es, [n]o, [A]ll, [N]one, [r]ename: "
          ]
        }
      ]
    },
    {
      "cell_type": "markdown",
      "source": [],
      "metadata": {
        "id": "fLMt7VfN4N3p"
      }
    },
    {
      "cell_type": "markdown",
      "source": [
        "## Have a representation of the data."
      ],
      "metadata": {
        "id": "VLaZtr6oWKY-"
      }
    },
    {
      "cell_type": "code",
      "source": [
        "# read in your training data\n",
        "import pandas as pd\n",
        "import numpy as np\n",
        "\n",
        "# set df to the data \n",
        "df = pd.read_csv('/content/data/training_data.csv')\n",
        "\n",
        "# have a representation of the data.\n",
        "df.head()"
      ],
      "metadata": {
        "id": "jHhV0u8DWI4I",
        "colab": {
          "base_uri": "https://localhost:8080/",
          "height": 201
        },
        "outputId": "6a13cb90-e1ce-4d37-9349-f9726d166404"
      },
      "execution_count": 93,
      "outputs": [
        {
          "output_type": "execute_result",
          "data": {
            "text/plain": [
              "   id                                           sentence difficulty\n",
              "0   0  Les coûts kilométriques réels peuvent diverger...         C1\n",
              "1   1  Le bleu, c'est ma couleur préférée mais je n'a...         A1\n",
              "2   2  Le test de niveau en français est sur le site ...         A1\n",
              "3   3           Est-ce que ton mari est aussi de Boston?         A1\n",
              "4   4  Dans les écoles de commerce, dans les couloirs...         B1"
            ],
            "text/html": [
              "\n",
              "  <div id=\"df-37d62166-db44-4369-94c8-ee48f62fea66\">\n",
              "    <div class=\"colab-df-container\">\n",
              "      <div>\n",
              "<style scoped>\n",
              "    .dataframe tbody tr th:only-of-type {\n",
              "        vertical-align: middle;\n",
              "    }\n",
              "\n",
              "    .dataframe tbody tr th {\n",
              "        vertical-align: top;\n",
              "    }\n",
              "\n",
              "    .dataframe thead th {\n",
              "        text-align: right;\n",
              "    }\n",
              "</style>\n",
              "<table border=\"1\" class=\"dataframe\">\n",
              "  <thead>\n",
              "    <tr style=\"text-align: right;\">\n",
              "      <th></th>\n",
              "      <th>id</th>\n",
              "      <th>sentence</th>\n",
              "      <th>difficulty</th>\n",
              "    </tr>\n",
              "  </thead>\n",
              "  <tbody>\n",
              "    <tr>\n",
              "      <th>0</th>\n",
              "      <td>0</td>\n",
              "      <td>Les coûts kilométriques réels peuvent diverger...</td>\n",
              "      <td>C1</td>\n",
              "    </tr>\n",
              "    <tr>\n",
              "      <th>1</th>\n",
              "      <td>1</td>\n",
              "      <td>Le bleu, c'est ma couleur préférée mais je n'a...</td>\n",
              "      <td>A1</td>\n",
              "    </tr>\n",
              "    <tr>\n",
              "      <th>2</th>\n",
              "      <td>2</td>\n",
              "      <td>Le test de niveau en français est sur le site ...</td>\n",
              "      <td>A1</td>\n",
              "    </tr>\n",
              "    <tr>\n",
              "      <th>3</th>\n",
              "      <td>3</td>\n",
              "      <td>Est-ce que ton mari est aussi de Boston?</td>\n",
              "      <td>A1</td>\n",
              "    </tr>\n",
              "    <tr>\n",
              "      <th>4</th>\n",
              "      <td>4</td>\n",
              "      <td>Dans les écoles de commerce, dans les couloirs...</td>\n",
              "      <td>B1</td>\n",
              "    </tr>\n",
              "  </tbody>\n",
              "</table>\n",
              "</div>\n",
              "      <button class=\"colab-df-convert\" onclick=\"convertToInteractive('df-37d62166-db44-4369-94c8-ee48f62fea66')\"\n",
              "              title=\"Convert this dataframe to an interactive table.\"\n",
              "              style=\"display:none;\">\n",
              "        \n",
              "  <svg xmlns=\"http://www.w3.org/2000/svg\" height=\"24px\"viewBox=\"0 0 24 24\"\n",
              "       width=\"24px\">\n",
              "    <path d=\"M0 0h24v24H0V0z\" fill=\"none\"/>\n",
              "    <path d=\"M18.56 5.44l.94 2.06.94-2.06 2.06-.94-2.06-.94-.94-2.06-.94 2.06-2.06.94zm-11 1L8.5 8.5l.94-2.06 2.06-.94-2.06-.94L8.5 2.5l-.94 2.06-2.06.94zm10 10l.94 2.06.94-2.06 2.06-.94-2.06-.94-.94-2.06-.94 2.06-2.06.94z\"/><path d=\"M17.41 7.96l-1.37-1.37c-.4-.4-.92-.59-1.43-.59-.52 0-1.04.2-1.43.59L10.3 9.45l-7.72 7.72c-.78.78-.78 2.05 0 2.83L4 21.41c.39.39.9.59 1.41.59.51 0 1.02-.2 1.41-.59l7.78-7.78 2.81-2.81c.8-.78.8-2.07 0-2.86zM5.41 20L4 18.59l7.72-7.72 1.47 1.35L5.41 20z\"/>\n",
              "  </svg>\n",
              "      </button>\n",
              "      \n",
              "  <style>\n",
              "    .colab-df-container {\n",
              "      display:flex;\n",
              "      flex-wrap:wrap;\n",
              "      gap: 12px;\n",
              "    }\n",
              "\n",
              "    .colab-df-convert {\n",
              "      background-color: #E8F0FE;\n",
              "      border: none;\n",
              "      border-radius: 50%;\n",
              "      cursor: pointer;\n",
              "      display: none;\n",
              "      fill: #1967D2;\n",
              "      height: 32px;\n",
              "      padding: 0 0 0 0;\n",
              "      width: 32px;\n",
              "    }\n",
              "\n",
              "    .colab-df-convert:hover {\n",
              "      background-color: #E2EBFA;\n",
              "      box-shadow: 0px 1px 2px rgba(60, 64, 67, 0.3), 0px 1px 3px 1px rgba(60, 64, 67, 0.15);\n",
              "      fill: #174EA6;\n",
              "    }\n",
              "\n",
              "    [theme=dark] .colab-df-convert {\n",
              "      background-color: #3B4455;\n",
              "      fill: #D2E3FC;\n",
              "    }\n",
              "\n",
              "    [theme=dark] .colab-df-convert:hover {\n",
              "      background-color: #434B5C;\n",
              "      box-shadow: 0px 1px 3px 1px rgba(0, 0, 0, 0.15);\n",
              "      filter: drop-shadow(0px 1px 2px rgba(0, 0, 0, 0.3));\n",
              "      fill: #FFFFFF;\n",
              "    }\n",
              "  </style>\n",
              "\n",
              "      <script>\n",
              "        const buttonEl =\n",
              "          document.querySelector('#df-37d62166-db44-4369-94c8-ee48f62fea66 button.colab-df-convert');\n",
              "        buttonEl.style.display =\n",
              "          google.colab.kernel.accessAllowed ? 'block' : 'none';\n",
              "\n",
              "        async function convertToInteractive(key) {\n",
              "          const element = document.querySelector('#df-37d62166-db44-4369-94c8-ee48f62fea66');\n",
              "          const dataTable =\n",
              "            await google.colab.kernel.invokeFunction('convertToInteractive',\n",
              "                                                     [key], {});\n",
              "          if (!dataTable) return;\n",
              "\n",
              "          const docLinkHtml = 'Like what you see? Visit the ' +\n",
              "            '<a target=\"_blank\" href=https://colab.research.google.com/notebooks/data_table.ipynb>data table notebook</a>'\n",
              "            + ' to learn more about interactive tables.';\n",
              "          element.innerHTML = '';\n",
              "          dataTable['output_type'] = 'display_data';\n",
              "          await google.colab.output.renderOutput(dataTable, element);\n",
              "          const docLink = document.createElement('div');\n",
              "          docLink.innerHTML = docLinkHtml;\n",
              "          element.appendChild(docLink);\n",
              "        }\n",
              "      </script>\n",
              "    </div>\n",
              "  </div>\n",
              "  "
            ]
          },
          "metadata": {},
          "execution_count": 93
        }
      ]
    },
    {
      "cell_type": "code",
      "source": [
        "# value counts of language level\n",
        "df['difficulty'].value_counts()"
      ],
      "metadata": {
        "id": "m5ASPIMIW4Uc",
        "colab": {
          "base_uri": "https://localhost:8080/"
        },
        "outputId": "c282afd4-5f7a-4af2-e187-5714673440e6"
      },
      "execution_count": 94,
      "outputs": [
        {
          "output_type": "execute_result",
          "data": {
            "text/plain": [
              "A1    813\n",
              "C2    807\n",
              "C1    798\n",
              "B1    795\n",
              "A2    795\n",
              "B2    792\n",
              "Name: difficulty, dtype: int64"
            ]
          },
          "metadata": {},
          "execution_count": 94
        }
      ]
    },
    {
      "cell_type": "markdown",
      "source": [
        "### 2. Train your models\n",
        "\n",
        "Set your X and y variables. \n",
        "Set the `random_state=0`\n",
        "Split the data into a train and test set using the following parameters `train_test_split(X, y, test_size=0.2, random_state=0)`.\n",
        "\n",
        "#### 2.1.Baseline\n",
        "What is the baseline for this classification problem?"
      ],
      "metadata": {
        "id": "dnOCKMWYW_k_"
      }
    },
    {
      "cell_type": "code",
      "source": [
        "# import packages.\n",
        "from sklearn.linear_model import LogisticRegression, LogisticRegressionCV\n",
        "from sklearn.model_selection import train_test_split\n",
        "from sklearn.metrics import confusion_matrix, accuracy_score, precision_score, recall_score, f1_score\n",
        "\n",
        "from sklearn.feature_extraction.text import CountVectorizer, TfidfVectorizer\n",
        "from sklearn.base import TransformerMixin\n",
        "from sklearn.pipeline import Pipeline\n",
        "import string\n",
        "from sklearn import preprocessing\n",
        "from sklearn.metrics import ConfusionMatrixDisplay\n",
        "import matplotlib.pyplot as plt\n",
        "import seaborn as sns\n",
        "\n",
        "\n",
        "# import function from my file\n",
        "import fonction_sbb\n",
        "from fonction_sbb import *"
      ],
      "metadata": {
        "id": "nEfaIjiiXIEq"
      },
      "execution_count": 95,
      "outputs": []
    },
    {
      "cell_type": "code",
      "source": [
        "# creating a copy of the dataframe for this model\n",
        "df1 = df.copy()\n",
        "\n",
        "# encoding difficulty\n",
        "le = preprocessing.LabelEncoder()\n",
        "le.fit(df1.difficulty)\n",
        "df1['difficulty_encoded'] = le.transform(df1.difficulty)\n",
        "df1['difficulty'] = df1['difficulty_encoded']\n",
        "print(df1)"
      ],
      "metadata": {
        "id": "nIlPiaxYXPm8",
        "colab": {
          "base_uri": "https://localhost:8080/"
        },
        "outputId": "f75d0c9e-4076-46c2-b774-ad5d514ccfbf"
      },
      "execution_count": 96,
      "outputs": [
        {
          "output_type": "stream",
          "name": "stdout",
          "text": [
            "        id                                           sentence  difficulty  \\\n",
            "0        0  Les coûts kilométriques réels peuvent diverger...           4   \n",
            "1        1  Le bleu, c'est ma couleur préférée mais je n'a...           0   \n",
            "2        2  Le test de niveau en français est sur le site ...           0   \n",
            "3        3           Est-ce que ton mari est aussi de Boston?           0   \n",
            "4        4  Dans les écoles de commerce, dans les couloirs...           2   \n",
            "...    ...                                                ...         ...   \n",
            "4795  4795  C'est pourquoi, il décida de remplacer les hab...           3   \n",
            "4796  4796  Il avait une de ces pâleurs splendides qui don...           4   \n",
            "4797  4797  Et le premier samedi de chaque mois, venez ren...           1   \n",
            "4798  4798  Les coûts liés à la journalisation n'étant pas...           5   \n",
            "4799  4799  Sur le sable, la mer haletait de toute la resp...           5   \n",
            "\n",
            "      difficulty_encoded  \n",
            "0                      4  \n",
            "1                      0  \n",
            "2                      0  \n",
            "3                      0  \n",
            "4                      2  \n",
            "...                  ...  \n",
            "4795                   3  \n",
            "4796                   4  \n",
            "4797                   1  \n",
            "4798                   5  \n",
            "4799                   5  \n",
            "\n",
            "[4800 rows x 4 columns]\n"
          ]
        }
      ]
    },
    {
      "cell_type": "code",
      "source": [
        "np.random.seed = 0\n",
        "# select features\n",
        "X = df1['sentence']\n",
        "y = df1['difficulty']\n",
        "\n",
        "# splitting the data between train and test set\n",
        "X_train, X_test, y_train, y_test = train_test_split(X, y, test_size=0.2, random_state=0)"
      ],
      "metadata": {
        "id": "eWoWTi2nYRwD"
      },
      "execution_count": 97,
      "outputs": []
    },
    {
      "cell_type": "code",
      "source": [
        "# representation of X\n",
        "X_train"
      ],
      "metadata": {
        "id": "pvzyrjkyYcbJ",
        "colab": {
          "base_uri": "https://localhost:8080/"
        },
        "outputId": "0b70ca70-c3d6-452d-8cbc-7e65d33ad5b1"
      },
      "execution_count": 98,
      "outputs": [
        {
          "data": {
            "text/plain": [
              "70                                Comment t'appelles-tu ?\n",
              "4347    Voilà qui serait en effet de nature à simplifi...\n",
              "1122    Les pèlerins partagèrent alors cette célébrati...\n",
              "4570                          Qu'est-ce que vous faites ?\n",
              "34      En voici un des moins obscurs : \"Plus nous dev...\n",
              "                              ...                        \n",
              "1033    Les micro-changements apportés par ce type d'u...\n",
              "3264    J'allais à la poste quand j'ai croisé ma cousi...\n",
              "1653    Au cours des années 1970 et 1980, plusieurs gr...\n",
              "2607    Stop : tout d'abord, figurez-vous que les vrai...\n",
              "2732    \"On s'est alors dit que le terrain commençait ...\n",
              "Name: sentence, Length: 3840, dtype: object"
            ]
          },
          "execution_count": 98,
          "metadata": {},
          "output_type": "execute_result"
        }
      ]
    },
    {
      "cell_type": "code",
      "source": [
        "# representation of y\n",
        "y_train"
      ],
      "metadata": {
        "id": "HZvwtQ4VYhMw",
        "colab": {
          "base_uri": "https://localhost:8080/"
        },
        "outputId": "749e49a4-fb5d-4c5d-9bc1-642d5cb0ac68"
      },
      "execution_count": 99,
      "outputs": [
        {
          "data": {
            "text/plain": [
              "70      0\n",
              "4347    3\n",
              "1122    4\n",
              "4570    0\n",
              "34      5\n",
              "       ..\n",
              "1033    3\n",
              "3264    1\n",
              "1653    4\n",
              "2607    3\n",
              "2732    2\n",
              "Name: difficulty, Length: 3840, dtype: int64"
            ]
          },
          "execution_count": 99,
          "metadata": {},
          "output_type": "execute_result"
        }
      ]
    },
    {
      "cell_type": "markdown",
      "source": [
        "#### 2.2. Logistic Regression (without data cleaning)\n",
        "\n",
        "Train a simple logistic regression model using a Tfidf vectoriser."
      ],
      "metadata": {
        "id": "j_unWLhMYpat"
      }
    },
    {
      "cell_type": "code",
      "source": [
        "# Define classifier\n",
        "log_reg = LogisticRegression()\n",
        "tfidfVectorizer = TfidfVectorizer()\n",
        "\n",
        "# Create pipeline\n",
        "pipe = Pipeline([('vectorizer', tfidfVectorizer),\n",
        "                 ('classifier', log_reg)])\n",
        "\n",
        "# the \"fit\" function returns a trained model that can then be used to make predictions on new data.\n",
        "pipe.fit(X_train, y_train)"
      ],
      "metadata": {
        "id": "q9-L0SZNYrqW",
        "colab": {
          "base_uri": "https://localhost:8080/"
        },
        "outputId": "ec9327e4-c3d8-4d1f-d04b-2d0c131dc077"
      },
      "execution_count": 100,
      "outputs": [
        {
          "output_type": "execute_result",
          "data": {
            "text/plain": [
              "Pipeline(steps=[('vectorizer', TfidfVectorizer()),\n",
              "                ('classifier', LogisticRegression())])"
            ]
          },
          "metadata": {},
          "execution_count": 100
        }
      ]
    },
    {
      "cell_type": "markdown",
      "source": [
        "Calculate accuracy, precision, recall and F1 score on the test set."
      ],
      "metadata": {
        "id": "uZnQixaSZOFh"
      }
    },
    {
      "cell_type": "code",
      "source": [],
      "metadata": {
        "id": "Kqe_4oXGQ_Xr"
      },
      "execution_count": 100,
      "outputs": []
    },
    {
      "cell_type": "code",
      "source": [],
      "metadata": {
        "id": "Yg4IMkqaLOXV"
      },
      "execution_count": 100,
      "outputs": []
    },
    {
      "cell_type": "code",
      "source": [
        "y_pred = pipe.predict(X_test)\n",
        "\n",
        "# call classification report function from my file fonction_sbb\n",
        "print_classification_report(y_test, y_pred)\n"
      ],
      "metadata": {
        "id": "iBR_qyqHZOrJ",
        "colab": {
          "base_uri": "https://localhost:8080/"
        },
        "outputId": "8efbbe76-9753-4bb5-f523-3144db7c0993"
      },
      "execution_count": 101,
      "outputs": [
        {
          "output_type": "stream",
          "name": "stdout",
          "text": [
            "              precision    recall  f1-score   support\n",
            "\n",
            "           0       0.53      0.58      0.55       161\n",
            "           1       0.41      0.37      0.39       164\n",
            "           2       0.43      0.40      0.42       160\n",
            "           3       0.43      0.46      0.44       144\n",
            "           4       0.51      0.42      0.46       173\n",
            "           5       0.48      0.58      0.53       158\n",
            "\n",
            "    accuracy                           0.47       960\n",
            "   macro avg       0.46      0.47      0.46       960\n",
            "weighted avg       0.47      0.47      0.46       960\n",
            "\n"
          ]
        }
      ]
    },
    {
      "cell_type": "code",
      "source": [
        "# print classification metrics\n",
        "print_classification_metrics(y_test, y_pred)"
      ],
      "metadata": {
        "id": "CDK7QOk7nTXJ",
        "colab": {
          "base_uri": "https://localhost:8080/"
        },
        "outputId": "a935dab4-e775-46d2-aba2-cb62fd85da66"
      },
      "execution_count": 102,
      "outputs": [
        {
          "output_type": "stream",
          "name": "stdout",
          "text": [
            "Accuracy: 0.4667\n",
            "Recall: 0.4667\n",
            "F1 Score: 0.4640\n"
          ]
        }
      ]
    },
    {
      "cell_type": "markdown",
      "source": [
        "Display confusion matrix to have a visual representation.\n",
        "Have a look at the confusion matrix and identify a few examples of sentences that are not well classified.\n"
      ],
      "metadata": {
        "id": "NZkh8mB8ZgKW"
      }
    },
    {
      "cell_type": "code",
      "source": [
        "# Calculate the confusion matrix\n",
        "display_confusion_matrix(y_test, y_pred)"
      ],
      "metadata": {
        "id": "ceS_h12iZfYD",
        "colab": {
          "base_uri": "https://localhost:8080/",
          "height": 263
        },
        "outputId": "37f8054b-4bc1-471b-e0ec-f8f37598324c"
      },
      "execution_count": 103,
      "outputs": [
        {
          "output_type": "display_data",
          "data": {
            "text/plain": [
              "<Figure size 432x288 with 2 Axes>"
            ],
            "image/png": "[encoded data removed]"
          },
          "metadata": {}
        }
      ]
    },
    {
      "cell_type": "markdown",
      "source": [
        "# Let's see the example of the first column:\n",
        "- the model predicted 94 sentence A1 that were of level A1.\n",
        "- the model predicted 54 sentence A1 that were of level A2.\n",
        "- the model predicted 12 sentence A1 that were of level B1.\n",
        "- the model predicted 6 sentence A1 that were of level B2.\n",
        "- the model predicted 4 sentence A1 that were of level C1.\n",
        "- the model predictet 7 sentence A1 that were of level C2.\n",
        "\n"
      ],
      "metadata": {
        "id": "owtv1OJrddP1"
      }
    },
    {
      "cell_type": "code",
      "source": [],
      "metadata": {
        "id": "4PcgQmE3aa-C"
      },
      "execution_count": 103,
      "outputs": []
    },
    {
      "cell_type": "markdown",
      "source": [
        "#### 2.3. KNN (without data cleaning)\n",
        "\n",
        "Train a KNN classification model using a Tfidf vectoriser. Show the accuracy, precision, recall and F1 score on the test set."
      ],
      "metadata": {
        "id": "zdoHtB8acndO"
      }
    },
    {
      "cell_type": "code",
      "source": [
        "# import some additional packages \n",
        "from sklearn.neighbors import KNeighborsClassifier"
      ],
      "metadata": {
        "id": "LXwMRYtTcsDT"
      },
      "execution_count": 104,
      "outputs": []
    },
    {
      "cell_type": "code",
      "source": [
        "# Define classifier\n",
        "reg_knn = KNeighborsClassifier()\n",
        "tfidfVectorizer = TfidfVectorizer()\n",
        "\n",
        "\n",
        "# Vectorize training data\n",
        "X_train_vectors = tfidfVectorizer.fit_transform(X_train)\n",
        "\n",
        "#create pipeline\n",
        "pipe_knn = Pipeline([('vectorizer', tfidfVectorizer),\n",
        "                     ('classifier', reg_knn)])\n",
        "\n",
        "# the \"fit\" function returns a trained model that can then be used to make predictions on new data.\n",
        "pipe_knn.fit(X_train, y_train)\n",
        "\n",
        "# making a prediction with the knn model\n",
        "y_pred_knn = pipe_knn.predict(X_test)\n"
      ],
      "metadata": {
        "id": "GlP08NKTcxzA"
      },
      "execution_count": 105,
      "outputs": []
    },
    {
      "cell_type": "markdown",
      "source": [
        "Calculate accuracy, precision, recall and F1 score on the test set."
      ],
      "metadata": {
        "id": "7KoIskB2dWap"
      }
    },
    {
      "cell_type": "code",
      "source": [
        "print_classification_report(y_test, y_pred_knn)"
      ],
      "metadata": {
        "id": "Syly_9sldb5Q",
        "colab": {
          "base_uri": "https://localhost:8080/"
        },
        "outputId": "397b6b0c-e98b-4182-9151-ee7af07cba7d"
      },
      "execution_count": 106,
      "outputs": [
        {
          "output_type": "stream",
          "name": "stdout",
          "text": [
            "              precision    recall  f1-score   support\n",
            "\n",
            "           0       0.28      0.75      0.41       161\n",
            "           1       0.24      0.31      0.27       164\n",
            "           2       0.28      0.21      0.24       160\n",
            "           3       0.40      0.20      0.27       144\n",
            "           4       0.66      0.17      0.27       173\n",
            "           5       0.54      0.27      0.36       158\n",
            "\n",
            "    accuracy                           0.32       960\n",
            "   macro avg       0.40      0.32      0.30       960\n",
            "weighted avg       0.40      0.32      0.30       960\n",
            "\n"
          ]
        }
      ]
    },
    {
      "cell_type": "code",
      "source": [
        "# print classification metrics\n",
        "print_classification_metrics(y_test, y_pred_knn)"
      ],
      "metadata": {
        "id": "pMNgM4cupA5t",
        "colab": {
          "base_uri": "https://localhost:8080/"
        },
        "outputId": "00087f6d-7a47-42e5-b199-37b4f63fdefb"
      },
      "execution_count": 107,
      "outputs": [
        {
          "output_type": "stream",
          "name": "stdout",
          "text": [
            "Accuracy: 0.3187\n",
            "Recall: 0.3187\n",
            "F1 Score: 0.3022\n"
          ]
        }
      ]
    },
    {
      "cell_type": "markdown",
      "source": [
        "Display confusion matrix to have a visual representation.\n"
      ],
      "metadata": {
        "id": "Plg5DU2wllYc"
      }
    },
    {
      "cell_type": "code",
      "source": [
        "display_confusion_matrix(y_test, y_pred_knn)"
      ],
      "metadata": {
        "id": "zvjNysEalnVS",
        "colab": {
          "base_uri": "https://localhost:8080/",
          "height": 267
        },
        "outputId": "e16bfa31-4d56-468d-a578-78dcf05586c3"
      },
      "execution_count": 108,
      "outputs": [
        {
          "output_type": "display_data",
          "data": {
            "text/plain": [
              "<Figure size 432x288 with 2 Axes>"
            ],
            "image/png": "[encoded data removed]"
          },
          "metadata": {}
        }
      ]
    },
    {
      "cell_type": "markdown",
      "source": [
        "Trying to improve it by tuning the hyper parameters (`n_neighbors`,   `p`, `weights`)."
      ],
      "metadata": {
        "id": "jksvK1KSmlwL"
      }
    },
    {
      "cell_type": "code",
      "source": [
        "# Train k-NN classifier with custom hyperparameters\n",
        "reg_knn_improved = KNeighborsClassifier(n_neighbors=10, p=2, weights='distance')\n",
        "pipe_knn_improved = Pipeline([('vectorizer', tfidfVectorizer),\n",
        "                     ('classifier', reg_knn_improved)])\n",
        "\n",
        "# the \"fit\" function returns a trained model that can then be used to make predictions on new data.\n",
        "pipe_knn_improved.fit(X_train, y_train)\n",
        "\n",
        "# making predictions with the knn improved\n",
        "y_pred_knn_improved = pipe_knn_improved.predict(X_test)\n"
      ],
      "metadata": {
        "id": "eAUdAiHwmnva"
      },
      "execution_count": 109,
      "outputs": []
    },
    {
      "cell_type": "markdown",
      "source": [
        "Calculate accuracy, precision, recall and F1 score on the test set."
      ],
      "metadata": {
        "id": "OeWjOI_4nEui"
      }
    },
    {
      "cell_type": "code",
      "source": [
        "print_classification_report(y_test, y_pred_knn_improved)"
      ],
      "metadata": {
        "id": "tSMfCbhPnA-n",
        "colab": {
          "base_uri": "https://localhost:8080/"
        },
        "outputId": "53f6e114-5e16-4147-8019-d950010ebbec"
      },
      "execution_count": 110,
      "outputs": [
        {
          "output_type": "stream",
          "name": "stdout",
          "text": [
            "              precision    recall  f1-score   support\n",
            "\n",
            "           0       0.30      0.71      0.43       161\n",
            "           1       0.28      0.35      0.31       164\n",
            "           2       0.31      0.24      0.27       160\n",
            "           3       0.47      0.29      0.36       144\n",
            "           4       0.64      0.20      0.30       173\n",
            "           5       0.52      0.35      0.42       158\n",
            "\n",
            "    accuracy                           0.36       960\n",
            "   macro avg       0.42      0.36      0.35       960\n",
            "weighted avg       0.42      0.36      0.35       960\n",
            "\n"
          ]
        }
      ]
    },
    {
      "cell_type": "code",
      "source": [
        "# print classification metrics\n",
        "print_classification_metrics(y_test, y_pred_knn_improved)"
      ],
      "metadata": {
        "id": "HNLbhF5kpVBg",
        "colab": {
          "base_uri": "https://localhost:8080/"
        },
        "outputId": "007c5c02-5d39-4edf-82bd-1dd1b8b80c43"
      },
      "execution_count": 111,
      "outputs": [
        {
          "output_type": "stream",
          "name": "stdout",
          "text": [
            "Accuracy: 0.3563\n",
            "Recall: 0.3563\n",
            "F1 Score: 0.3460\n"
          ]
        }
      ]
    },
    {
      "cell_type": "markdown",
      "source": [
        "Display confusion matrix to have a visual representation.\n"
      ],
      "metadata": {
        "id": "Su5h8-bRnUFl"
      }
    },
    {
      "cell_type": "code",
      "source": [
        "display_confusion_matrix(y_test, y_pred_knn_improved)"
      ],
      "metadata": {
        "id": "J94iYKqKnKQB",
        "colab": {
          "base_uri": "https://localhost:8080/",
          "height": 263
        },
        "outputId": "54f8c085-2db9-4a08-f159-bf368d8c9946"
      },
      "execution_count": 112,
      "outputs": [
        {
          "output_type": "display_data",
          "data": {
            "text/plain": [
              "<Figure size 432x288 with 2 Axes>"
            ],
            "image/png": "[encoded data removed]"
          },
          "metadata": {}
        }
      ]
    },
    {
      "cell_type": "markdown",
      "source": [
        "#### 2.4. Decision Tree Classifier (without data cleaning)\n",
        "\n",
        "Train a Decison Tree classifier, using a Tfidf vectoriser. Show the accuracy, precision, recall and F1 score on the test set."
      ],
      "metadata": {
        "id": "pE2e10JFnrpy"
      }
    },
    {
      "cell_type": "code",
      "source": [
        "# import some additional packages \n",
        "from sklearn.tree import DecisionTreeClassifier, plot_tree\n",
        "from sklearn.model_selection import cross_val_score"
      ],
      "metadata": {
        "id": "Yi0VdHu6nwlC"
      },
      "execution_count": 113,
      "outputs": []
    },
    {
      "cell_type": "code",
      "source": [
        "# define classifier\n",
        "tree = DecisionTreeClassifier()\n",
        "\n",
        "#create pipeline\n",
        "pipe_tree = Pipeline([('vectorizer', tfidfVectorizer),\n",
        "                      ('classifier', tree)])\n",
        "\n",
        "# the \"fit\" function returns a trained model that can then be used to make predictions on new data.\n",
        "pipe_tree.fit(X_train, y_train)\n",
        "\n",
        "# making a prediction with the decision tree model\n",
        "y_pred_tree = pipe_tree.predict(X_test)\n"
      ],
      "metadata": {
        "id": "_X__NfcRn2VW"
      },
      "execution_count": 114,
      "outputs": []
    },
    {
      "cell_type": "markdown",
      "source": [
        "Calculate accuracy, precision, recall and F1 score on the test set."
      ],
      "metadata": {
        "id": "FpFv-kDeoUua"
      }
    },
    {
      "cell_type": "code",
      "source": [
        "print_classification_report(y_test, y_pred_tree)"
      ],
      "metadata": {
        "id": "L8inWOYwoQh3",
        "colab": {
          "base_uri": "https://localhost:8080/"
        },
        "outputId": "af645ba2-cafa-4e6f-d1ca-fa9f6567f32e"
      },
      "execution_count": 115,
      "outputs": [
        {
          "output_type": "stream",
          "name": "stdout",
          "text": [
            "              precision    recall  f1-score   support\n",
            "\n",
            "           0       0.43      0.53      0.47       161\n",
            "           1       0.32      0.34      0.33       164\n",
            "           2       0.20      0.22      0.21       160\n",
            "           3       0.24      0.28      0.26       144\n",
            "           4       0.30      0.21      0.25       173\n",
            "           5       0.31      0.23      0.27       158\n",
            "\n",
            "    accuracy                           0.30       960\n",
            "   macro avg       0.30      0.30      0.30       960\n",
            "weighted avg       0.30      0.30      0.30       960\n",
            "\n"
          ]
        }
      ]
    },
    {
      "cell_type": "code",
      "source": [
        "# print classification metrics\n",
        "print_classification_metrics(y_test, y_pred_tree)"
      ],
      "metadata": {
        "id": "7YA_vz-Gp4Po",
        "colab": {
          "base_uri": "https://localhost:8080/"
        },
        "outputId": "2a4698ca-7908-4cff-c4e5-fb7e33a43147"
      },
      "execution_count": 116,
      "outputs": [
        {
          "output_type": "stream",
          "name": "stdout",
          "text": [
            "Accuracy: 0.3021\n",
            "Recall: 0.3021\n",
            "F1 Score: 0.2980\n"
          ]
        }
      ]
    },
    {
      "cell_type": "markdown",
      "source": [
        "Display confusion matrix to have a visual representation.\n"
      ],
      "metadata": {
        "id": "tQJzZRceoh-X"
      }
    },
    {
      "cell_type": "code",
      "source": [
        "display_confusion_matrix(y_test, y_pred_tree)"
      ],
      "metadata": {
        "id": "h2-QHqrKoi3x",
        "colab": {
          "base_uri": "https://localhost:8080/",
          "height": 263
        },
        "outputId": "01696a89-10a8-4340-a286-c3b570647b38"
      },
      "execution_count": 117,
      "outputs": [
        {
          "output_type": "display_data",
          "data": {
            "text/plain": [
              "<Figure size 432x288 with 2 Axes>"
            ],
            "image/png": "[encoded data removed]"
          },
          "metadata": {}
        }
      ]
    },
    {
      "cell_type": "markdown",
      "source": [
        "Try to improve it by tuning the hyper parameters (`max_depth`, the depth of the decision tree)."
      ],
      "metadata": {
        "id": "QA9aBzBFovLw"
      }
    },
    {
      "cell_type": "code",
      "source": [
        "# improving it by tuning the hyper parameters (`max_depth`, the depth of the decision tree).\n",
        "tree_improved = DecisionTreeClassifier(max_depth=16)\n",
        "pipe_tree_improved =Pipeline([('vectorizer', tfidfVectorizer),\n",
        "                     ('classifier', tree_improved)]) \n",
        "\n",
        "# the \"fit\" function returns a trained model that can then be used to make predictions on new data.\n",
        "pipe_tree_improved.fit(X_train, y_train)\n",
        "\n",
        "# Make a prediction and print results\n",
        "y_pred_tree_improved = pipe_tree_improved.predict(X_test)"
      ],
      "metadata": {
        "id": "9NJkwulLov6h"
      },
      "execution_count": 118,
      "outputs": []
    },
    {
      "cell_type": "markdown",
      "source": [
        "Calculate accuracy, precision, recall and F1 score on the test set.\n",
        "\n",
        "---\n",
        "\n"
      ],
      "metadata": {
        "id": "-Q3XNjRSpAab"
      }
    },
    {
      "cell_type": "code",
      "source": [
        "print_classification_report(y_test, y_pred_tree_improved)"
      ],
      "metadata": {
        "id": "ZH1rVYeFpBeH",
        "colab": {
          "base_uri": "https://localhost:8080/"
        },
        "outputId": "c72624d2-1dca-4981-c81a-54771f984dcb"
      },
      "execution_count": 119,
      "outputs": [
        {
          "output_type": "stream",
          "name": "stdout",
          "text": [
            "              precision    recall  f1-score   support\n",
            "\n",
            "           0       0.37      0.56      0.44       161\n",
            "           1       0.31      0.29      0.30       164\n",
            "           2       0.24      0.19      0.21       160\n",
            "           3       0.28      0.45      0.34       144\n",
            "           4       0.39      0.18      0.25       173\n",
            "           5       0.34      0.26      0.29       158\n",
            "\n",
            "    accuracy                           0.32       960\n",
            "   macro avg       0.32      0.32      0.31       960\n",
            "weighted avg       0.32      0.32      0.31       960\n",
            "\n"
          ]
        }
      ]
    },
    {
      "cell_type": "code",
      "source": [
        "# print classification metrics\n",
        "print_classification_metrics(y_test, y_pred_tree_improved)"
      ],
      "metadata": {
        "id": "lKHBYu2xqjco",
        "colab": {
          "base_uri": "https://localhost:8080/"
        },
        "outputId": "f3dcdada-550c-40e9-c79e-671f6c034fac"
      },
      "execution_count": 120,
      "outputs": [
        {
          "metadata": {
            "tags": null
          },
          "name": "stdout",
          "output_type": "stream",
          "text": [
            "Accuracy: 0.3177\n",
            "Recall: 0.3177\n",
            "F1 Score: 0.3052\n"
          ]
        }
      ]
    },
    {
      "cell_type": "markdown",
      "source": [
        "Display confusion matrix to have a visual representation.\n"
      ],
      "metadata": {
        "id": "hMPEYtb8pKQf"
      }
    },
    {
      "cell_type": "code",
      "source": [
        "display_confusion_matrix(y_test, y_pred_tree_improved)"
      ],
      "metadata": {
        "id": "JpSSR6XepK0s",
        "colab": {
          "base_uri": "https://localhost:8080/",
          "height": 268
        },
        "outputId": "5392ee5b-eaa3-4e6e-93fe-0de900bf61cb"
      },
      "execution_count": 121,
      "outputs": [
        {
          "output_type": "display_data",
          "data": {
            "text/plain": [
              "<Figure size 432x288 with 2 Axes>"
            ],
            "image/png": "[encoded data removed]"
          },
          "metadata": {}
        }
      ]
    },
    {
      "cell_type": "markdown",
      "source": [
        "#### 2.5. Random Forest Classifier (without data cleaning)\n",
        "\n",
        "Try a Random Forest Classifier, using a Tfidf vectoriser. Show the accuracy, precision, recall and F1 score on the test set."
      ],
      "metadata": {
        "id": "n_xciajGrznf"
      }
    },
    {
      "cell_type": "code",
      "source": [
        "# Import packages\n",
        "from sklearn.ensemble import RandomForestClassifier"
      ],
      "metadata": {
        "id": "gvJKRgZsr3sQ"
      },
      "execution_count": 122,
      "outputs": []
    },
    {
      "cell_type": "code",
      "source": [
        "# Train random forest classifier\n",
        "reg_rand_f = RandomForestClassifier()\n",
        "pipe_rand_f = Pipeline([('vectorizer', tfidfVectorizer),\n",
        "                     ('classifier', reg_rand_f)])\n",
        "\n",
        "# the \"fit\" function returns a trained model that can then be used to make predictions on new data.\n",
        "pipe_rand_f.fit(X_train, y_train)\n",
        "\n",
        "# making predictions with random forest classifier\n",
        "y_pred_rand_f = pipe_rand_f.predict(X_test)\n"
      ],
      "metadata": {
        "id": "m9iW1ipdr6QY"
      },
      "execution_count": 123,
      "outputs": []
    },
    {
      "cell_type": "markdown",
      "source": [
        "\n",
        "Calculate accuracy, precision, recall and F1 score on the test set.\n",
        "\n",
        "\n"
      ],
      "metadata": {
        "id": "1aLdsiXZsPzu"
      }
    },
    {
      "cell_type": "code",
      "source": [
        "print_classification_report(y_test, y_pred_rand_f)"
      ],
      "metadata": {
        "id": "QPId4BUusQBK"
      },
      "execution_count": null,
      "outputs": []
    },
    {
      "cell_type": "code",
      "source": [
        "# print classification metrics\n",
        "print_classification_metrics(y_test, y_pred_rand_f)"
      ],
      "metadata": {
        "id": "9ukv658_quvr"
      },
      "execution_count": null,
      "outputs": []
    },
    {
      "cell_type": "markdown",
      "source": [
        "Display confusion matrix to have a visual representation.\n"
      ],
      "metadata": {
        "id": "XndSp30RsdUp"
      }
    },
    {
      "cell_type": "code",
      "source": [
        "display_confusion_matrix(y_test, y_pred_rand_f)"
      ],
      "metadata": {
        "id": "Kby5buszseCn",
        "colab": {
          "base_uri": "https://localhost:8080/",
          "height": 268
        },
        "outputId": "40a325c6-4237-4c60-b0e9-fd2a230fde45"
      },
      "execution_count": 126,
      "outputs": [
        {
          "output_type": "display_data",
          "data": {
            "text/plain": [
              "<Figure size 432x288 with 2 Axes>"
            ],
            "image/png": "[encoded data removed]"
          },
          "metadata": {}
        }
      ]
    },
    {
      "cell_type": "markdown",
      "source": [
        "#### 2.6. Any other technique, including data cleaning if necessary\n",
        "\n",
        "Try to improve accuracy by training a better model using the techniques seen in class, or combinations of them.\n",
        "\n",
        "As usual, show the accuracy, precision, recall and f1 score on the test set."
      ],
      "metadata": {
        "id": "AdzLwErHtD1_"
      }
    },
    {
      "cell_type": "code",
      "source": [
        "# create new dataframe that I will clean\n",
        "df2 = df1.copy()\n",
        "\n",
        "# removing all special characters\n",
        "spec_chars = [\"!\",'\"',\"#\",\"%\",\"&\",\"'\",\"(\",\")\",\n",
        "              \"*\",\"+\",\",\",\"-\",\".\",\"/\",\":\",\";\",\"<\",\n",
        "              \"=\",\">\",\"?\",\"@\",\"[\",\"\\\\\",\"]\",\"^\",\"_\",\n",
        "              \"`\",\"{\",\"|\",\"}\",\"~\",\"–\"]\n",
        "for char in spec_chars:\n",
        "    df2['sentence'] = df2['sentence'].str.replace(char, ' ')\n",
        "\n",
        "# replacing special characters by blank\n",
        "df2['sentence'] = df2['sentence'].str.split().str.join(\" \")\n",
        "df2"
      ],
      "metadata": {
        "id": "AnwNgprrtH-U",
        "colab": {
          "base_uri": "https://localhost:8080/",
          "height": 464
        },
        "outputId": "2c55d679-ac59-44ca-9488-a169b8da4e30"
      },
      "execution_count": 127,
      "outputs": [
        {
          "output_type": "stream",
          "name": "stderr",
          "text": [
            "<ipython-input-127-1e1763f93834>:10: FutureWarning: The default value of regex will change from True to False in a future version. In addition, single character regular expressions will *not* be treated as literal strings when regex=True.\n",
            "  df2['sentence'] = df2['sentence'].str.replace(char, ' ')\n"
          ]
        },
        {
          "output_type": "execute_result",
          "data": {
            "text/plain": [
              "        id                                           sentence  difficulty  \\\n",
              "0        0  Les coûts kilométriques réels peuvent diverger...           4   \n",
              "1        1  Le bleu c est ma couleur préférée mais je n ai...           0   \n",
              "2        2  Le test de niveau en français est sur le site ...           0   \n",
              "3        3            Est ce que ton mari est aussi de Boston           0   \n",
              "4        4  Dans les écoles de commerce dans les couloirs ...           2   \n",
              "...    ...                                                ...         ...   \n",
              "4795  4795  C est pourquoi il décida de remplacer les habi...           3   \n",
              "4796  4796  Il avait une de ces pâleurs splendides qui don...           4   \n",
              "4797  4797  Et le premier samedi de chaque mois venez renc...           1   \n",
              "4798  4798  Les coûts liés à la journalisation n étant pas...           5   \n",
              "4799  4799  Sur le sable la mer haletait de toute la respi...           5   \n",
              "\n",
              "      difficulty_encoded  \n",
              "0                      4  \n",
              "1                      0  \n",
              "2                      0  \n",
              "3                      0  \n",
              "4                      2  \n",
              "...                  ...  \n",
              "4795                   3  \n",
              "4796                   4  \n",
              "4797                   1  \n",
              "4798                   5  \n",
              "4799                   5  \n",
              "\n",
              "[4800 rows x 4 columns]"
            ],
            "text/html": [
              "\n",
              "  <div id=\"df-a496f24b-d8c0-4bc8-bdc1-ef9cf10103a2\">\n",
              "    <div class=\"colab-df-container\">\n",
              "      <div>\n",
              "<style scoped>\n",
              "    .dataframe tbody tr th:only-of-type {\n",
              "        vertical-align: middle;\n",
              "    }\n",
              "\n",
              "    .dataframe tbody tr th {\n",
              "        vertical-align: top;\n",
              "    }\n",
              "\n",
              "    .dataframe thead th {\n",
              "        text-align: right;\n",
              "    }\n",
              "</style>\n",
              "<table border=\"1\" class=\"dataframe\">\n",
              "  <thead>\n",
              "    <tr style=\"text-align: right;\">\n",
              "      <th></th>\n",
              "      <th>id</th>\n",
              "      <th>sentence</th>\n",
              "      <th>difficulty</th>\n",
              "      <th>difficulty_encoded</th>\n",
              "    </tr>\n",
              "  </thead>\n",
              "  <tbody>\n",
              "    <tr>\n",
              "      <th>0</th>\n",
              "      <td>0</td>\n",
              "      <td>Les coûts kilométriques réels peuvent diverger...</td>\n",
              "      <td>4</td>\n",
              "      <td>4</td>\n",
              "    </tr>\n",
              "    <tr>\n",
              "      <th>1</th>\n",
              "      <td>1</td>\n",
              "      <td>Le bleu c est ma couleur préférée mais je n ai...</td>\n",
              "      <td>0</td>\n",
              "      <td>0</td>\n",
              "    </tr>\n",
              "    <tr>\n",
              "      <th>2</th>\n",
              "      <td>2</td>\n",
              "      <td>Le test de niveau en français est sur le site ...</td>\n",
              "      <td>0</td>\n",
              "      <td>0</td>\n",
              "    </tr>\n",
              "    <tr>\n",
              "      <th>3</th>\n",
              "      <td>3</td>\n",
              "      <td>Est ce que ton mari est aussi de Boston</td>\n",
              "      <td>0</td>\n",
              "      <td>0</td>\n",
              "    </tr>\n",
              "    <tr>\n",
              "      <th>4</th>\n",
              "      <td>4</td>\n",
              "      <td>Dans les écoles de commerce dans les couloirs ...</td>\n",
              "      <td>2</td>\n",
              "      <td>2</td>\n",
              "    </tr>\n",
              "    <tr>\n",
              "      <th>...</th>\n",
              "      <td>...</td>\n",
              "      <td>...</td>\n",
              "      <td>...</td>\n",
              "      <td>...</td>\n",
              "    </tr>\n",
              "    <tr>\n",
              "      <th>4795</th>\n",
              "      <td>4795</td>\n",
              "      <td>C est pourquoi il décida de remplacer les habi...</td>\n",
              "      <td>3</td>\n",
              "      <td>3</td>\n",
              "    </tr>\n",
              "    <tr>\n",
              "      <th>4796</th>\n",
              "      <td>4796</td>\n",
              "      <td>Il avait une de ces pâleurs splendides qui don...</td>\n",
              "      <td>4</td>\n",
              "      <td>4</td>\n",
              "    </tr>\n",
              "    <tr>\n",
              "      <th>4797</th>\n",
              "      <td>4797</td>\n",
              "      <td>Et le premier samedi de chaque mois venez renc...</td>\n",
              "      <td>1</td>\n",
              "      <td>1</td>\n",
              "    </tr>\n",
              "    <tr>\n",
              "      <th>4798</th>\n",
              "      <td>4798</td>\n",
              "      <td>Les coûts liés à la journalisation n étant pas...</td>\n",
              "      <td>5</td>\n",
              "      <td>5</td>\n",
              "    </tr>\n",
              "    <tr>\n",
              "      <th>4799</th>\n",
              "      <td>4799</td>\n",
              "      <td>Sur le sable la mer haletait de toute la respi...</td>\n",
              "      <td>5</td>\n",
              "      <td>5</td>\n",
              "    </tr>\n",
              "  </tbody>\n",
              "</table>\n",
              "<p>4800 rows × 4 columns</p>\n",
              "</div>\n",
              "      <button class=\"colab-df-convert\" onclick=\"convertToInteractive('df-a496f24b-d8c0-4bc8-bdc1-ef9cf10103a2')\"\n",
              "              title=\"Convert this dataframe to an interactive table.\"\n",
              "              style=\"display:none;\">\n",
              "        \n",
              "  <svg xmlns=\"http://www.w3.org/2000/svg\" height=\"24px\"viewBox=\"0 0 24 24\"\n",
              "       width=\"24px\">\n",
              "    <path d=\"M0 0h24v24H0V0z\" fill=\"none\"/>\n",
              "    <path d=\"M18.56 5.44l.94 2.06.94-2.06 2.06-.94-2.06-.94-.94-2.06-.94 2.06-2.06.94zm-11 1L8.5 8.5l.94-2.06 2.06-.94-2.06-.94L8.5 2.5l-.94 2.06-2.06.94zm10 10l.94 2.06.94-2.06 2.06-.94-2.06-.94-.94-2.06-.94 2.06-2.06.94z\"/><path d=\"M17.41 7.96l-1.37-1.37c-.4-.4-.92-.59-1.43-.59-.52 0-1.04.2-1.43.59L10.3 9.45l-7.72 7.72c-.78.78-.78 2.05 0 2.83L4 21.41c.39.39.9.59 1.41.59.51 0 1.02-.2 1.41-.59l7.78-7.78 2.81-2.81c.8-.78.8-2.07 0-2.86zM5.41 20L4 18.59l7.72-7.72 1.47 1.35L5.41 20z\"/>\n",
              "  </svg>\n",
              "      </button>\n",
              "      \n",
              "  <style>\n",
              "    .colab-df-container {\n",
              "      display:flex;\n",
              "      flex-wrap:wrap;\n",
              "      gap: 12px;\n",
              "    }\n",
              "\n",
              "    .colab-df-convert {\n",
              "      background-color: #E8F0FE;\n",
              "      border: none;\n",
              "      border-radius: 50%;\n",
              "      cursor: pointer;\n",
              "      display: none;\n",
              "      fill: #1967D2;\n",
              "      height: 32px;\n",
              "      padding: 0 0 0 0;\n",
              "      width: 32px;\n",
              "    }\n",
              "\n",
              "    .colab-df-convert:hover {\n",
              "      background-color: #E2EBFA;\n",
              "      box-shadow: 0px 1px 2px rgba(60, 64, 67, 0.3), 0px 1px 3px 1px rgba(60, 64, 67, 0.15);\n",
              "      fill: #174EA6;\n",
              "    }\n",
              "\n",
              "    [theme=dark] .colab-df-convert {\n",
              "      background-color: #3B4455;\n",
              "      fill: #D2E3FC;\n",
              "    }\n",
              "\n",
              "    [theme=dark] .colab-df-convert:hover {\n",
              "      background-color: #434B5C;\n",
              "      box-shadow: 0px 1px 3px 1px rgba(0, 0, 0, 0.15);\n",
              "      filter: drop-shadow(0px 1px 2px rgba(0, 0, 0, 0.3));\n",
              "      fill: #FFFFFF;\n",
              "    }\n",
              "  </style>\n",
              "\n",
              "      <script>\n",
              "        const buttonEl =\n",
              "          document.querySelector('#df-a496f24b-d8c0-4bc8-bdc1-ef9cf10103a2 button.colab-df-convert');\n",
              "        buttonEl.style.display =\n",
              "          google.colab.kernel.accessAllowed ? 'block' : 'none';\n",
              "\n",
              "        async function convertToInteractive(key) {\n",
              "          const element = document.querySelector('#df-a496f24b-d8c0-4bc8-bdc1-ef9cf10103a2');\n",
              "          const dataTable =\n",
              "            await google.colab.kernel.invokeFunction('convertToInteractive',\n",
              "                                                     [key], {});\n",
              "          if (!dataTable) return;\n",
              "\n",
              "          const docLinkHtml = 'Like what you see? Visit the ' +\n",
              "            '<a target=\"_blank\" href=https://colab.research.google.com/notebooks/data_table.ipynb>data table notebook</a>'\n",
              "            + ' to learn more about interactive tables.';\n",
              "          element.innerHTML = '';\n",
              "          dataTable['output_type'] = 'display_data';\n",
              "          await google.colab.output.renderOutput(dataTable, element);\n",
              "          const docLink = document.createElement('div');\n",
              "          docLink.innerHTML = docLinkHtml;\n",
              "          element.appendChild(docLink);\n",
              "        }\n",
              "      </script>\n",
              "    </div>\n",
              "  </div>\n",
              "  "
            ]
          },
          "metadata": {},
          "execution_count": 127
        }
      ]
    },
    {
      "cell_type": "code",
      "source": [
        "# import packages\n",
        "import nltk\n",
        "from nltk.stem import PorterStemmer\n",
        "nltk.download('punkt')\n",
        "\n",
        "# Initialize the stemmer\n",
        "stemmer = PorterStemmer()"
      ],
      "metadata": {
        "id": "hsRD5VDWt0tq",
        "colab": {
          "base_uri": "https://localhost:8080/"
        },
        "outputId": "a2c0788e-a1e1-4f22-b4cd-5c15e461080c"
      },
      "execution_count": 128,
      "outputs": [
        {
          "output_type": "stream",
          "name": "stderr",
          "text": [
            "[nltk_data] Downloading package punkt to /root/nltk_data...\n",
            "[nltk_data]   Package punkt is already up-to-date!\n"
          ]
        }
      ]
    },
    {
      "cell_type": "code",
      "source": [
        "# Applies stemming to each token in the input string and returns the stemmed string.\n",
        "def stem_string(input_string):\n",
        "\n",
        "  # # Stem each token in the input string\n",
        "  stemmed_tokens = [stemmer.stem(token) for token in nltk.word_tokenize(input_string)]\n",
        "\n",
        "  # Join the stemmed tokens into a single string\n",
        "  stemmed_string = \" \".join(stemmed_tokens)\n",
        "\n",
        "  return stemmed_string\n",
        "\n",
        "  # Apply the Stemming\n",
        "  df2['sentence'] = df2['sentence'].apply(stemmed_string)\n"
      ],
      "metadata": {
        "id": "rNENwEM6ungI"
      },
      "execution_count": 129,
      "outputs": []
    },
    {
      "cell_type": "code",
      "source": [
        "df2.head()"
      ],
      "metadata": {
        "id": "DOESrcFVvKZm",
        "colab": {
          "base_uri": "https://localhost:8080/",
          "height": 201
        },
        "outputId": "a7902f46-6eda-4bfe-c43e-bae4553384a3"
      },
      "execution_count": 130,
      "outputs": [
        {
          "data": {
            "text/html": [
              "\n",
              "  <div id=\"df-e1d0bd34-25dd-47d9-80dd-9d4b1aa5d470\">\n",
              "    <div class=\"colab-df-container\">\n",
              "      <div>\n",
              "<style scoped>\n",
              "    .dataframe tbody tr th:only-of-type {\n",
              "        vertical-align: middle;\n",
              "    }\n",
              "\n",
              "    .dataframe tbody tr th {\n",
              "        vertical-align: top;\n",
              "    }\n",
              "\n",
              "    .dataframe thead th {\n",
              "        text-align: right;\n",
              "    }\n",
              "</style>\n",
              "<table border=\"1\" class=\"dataframe\">\n",
              "  <thead>\n",
              "    <tr style=\"text-align: right;\">\n",
              "      <th></th>\n",
              "      <th>id</th>\n",
              "      <th>sentence</th>\n",
              "      <th>difficulty</th>\n",
              "      <th>difficulty_encoded</th>\n",
              "    </tr>\n",
              "  </thead>\n",
              "  <tbody>\n",
              "    <tr>\n",
              "      <th>0</th>\n",
              "      <td>0</td>\n",
              "      <td>Les coûts kilométriques réels peuvent diverger...</td>\n",
              "      <td>4</td>\n",
              "      <td>4</td>\n",
              "    </tr>\n",
              "    <tr>\n",
              "      <th>1</th>\n",
              "      <td>1</td>\n",
              "      <td>Le bleu c est ma couleur préférée mais je n ai...</td>\n",
              "      <td>0</td>\n",
              "      <td>0</td>\n",
              "    </tr>\n",
              "    <tr>\n",
              "      <th>2</th>\n",
              "      <td>2</td>\n",
              "      <td>Le test de niveau en français est sur le site ...</td>\n",
              "      <td>0</td>\n",
              "      <td>0</td>\n",
              "    </tr>\n",
              "    <tr>\n",
              "      <th>3</th>\n",
              "      <td>3</td>\n",
              "      <td>Est ce que ton mari est aussi de Boston</td>\n",
              "      <td>0</td>\n",
              "      <td>0</td>\n",
              "    </tr>\n",
              "    <tr>\n",
              "      <th>4</th>\n",
              "      <td>4</td>\n",
              "      <td>Dans les écoles de commerce dans les couloirs ...</td>\n",
              "      <td>2</td>\n",
              "      <td>2</td>\n",
              "    </tr>\n",
              "  </tbody>\n",
              "</table>\n",
              "</div>\n",
              "      <button class=\"colab-df-convert\" onclick=\"convertToInteractive('df-e1d0bd34-25dd-47d9-80dd-9d4b1aa5d470')\"\n",
              "              title=\"Convert this dataframe to an interactive table.\"\n",
              "              style=\"display:none;\">\n",
              "        \n",
              "  <svg xmlns=\"http://www.w3.org/2000/svg\" height=\"24px\"viewBox=\"0 0 24 24\"\n",
              "       width=\"24px\">\n",
              "    <path d=\"M0 0h24v24H0V0z\" fill=\"none\"/>\n",
              "    <path d=\"M18.56 5.44l.94 2.06.94-2.06 2.06-.94-2.06-.94-.94-2.06-.94 2.06-2.06.94zm-11 1L8.5 8.5l.94-2.06 2.06-.94-2.06-.94L8.5 2.5l-.94 2.06-2.06.94zm10 10l.94 2.06.94-2.06 2.06-.94-2.06-.94-.94-2.06-.94 2.06-2.06.94z\"/><path d=\"M17.41 7.96l-1.37-1.37c-.4-.4-.92-.59-1.43-.59-.52 0-1.04.2-1.43.59L10.3 9.45l-7.72 7.72c-.78.78-.78 2.05 0 2.83L4 21.41c.39.39.9.59 1.41.59.51 0 1.02-.2 1.41-.59l7.78-7.78 2.81-2.81c.8-.78.8-2.07 0-2.86zM5.41 20L4 18.59l7.72-7.72 1.47 1.35L5.41 20z\"/>\n",
              "  </svg>\n",
              "      </button>\n",
              "      \n",
              "  <style>\n",
              "    .colab-df-container {\n",
              "      display:flex;\n",
              "      flex-wrap:wrap;\n",
              "      gap: 12px;\n",
              "    }\n",
              "\n",
              "    .colab-df-convert {\n",
              "      background-color: #E8F0FE;\n",
              "      border: none;\n",
              "      border-radius: 50%;\n",
              "      cursor: pointer;\n",
              "      display: none;\n",
              "      fill: #1967D2;\n",
              "      height: 32px;\n",
              "      padding: 0 0 0 0;\n",
              "      width: 32px;\n",
              "    }\n",
              "\n",
              "    .colab-df-convert:hover {\n",
              "      background-color: #E2EBFA;\n",
              "      box-shadow: 0px 1px 2px rgba(60, 64, 67, 0.3), 0px 1px 3px 1px rgba(60, 64, 67, 0.15);\n",
              "      fill: #174EA6;\n",
              "    }\n",
              "\n",
              "    [theme=dark] .colab-df-convert {\n",
              "      background-color: #3B4455;\n",
              "      fill: #D2E3FC;\n",
              "    }\n",
              "\n",
              "    [theme=dark] .colab-df-convert:hover {\n",
              "      background-color: #434B5C;\n",
              "      box-shadow: 0px 1px 3px 1px rgba(0, 0, 0, 0.15);\n",
              "      filter: drop-shadow(0px 1px 2px rgba(0, 0, 0, 0.3));\n",
              "      fill: #FFFFFF;\n",
              "    }\n",
              "  </style>\n",
              "\n",
              "      <script>\n",
              "        const buttonEl =\n",
              "          document.querySelector('#df-e1d0bd34-25dd-47d9-80dd-9d4b1aa5d470 button.colab-df-convert');\n",
              "        buttonEl.style.display =\n",
              "          google.colab.kernel.accessAllowed ? 'block' : 'none';\n",
              "\n",
              "        async function convertToInteractive(key) {\n",
              "          const element = document.querySelector('#df-e1d0bd34-25dd-47d9-80dd-9d4b1aa5d470');\n",
              "          const dataTable =\n",
              "            await google.colab.kernel.invokeFunction('convertToInteractive',\n",
              "                                                     [key], {});\n",
              "          if (!dataTable) return;\n",
              "\n",
              "          const docLinkHtml = 'Like what you see? Visit the ' +\n",
              "            '<a target=\"_blank\" href=https://colab.research.google.com/notebooks/data_table.ipynb>data table notebook</a>'\n",
              "            + ' to learn more about interactive tables.';\n",
              "          element.innerHTML = '';\n",
              "          dataTable['output_type'] = 'display_data';\n",
              "          await google.colab.output.renderOutput(dataTable, element);\n",
              "          const docLink = document.createElement('div');\n",
              "          docLink.innerHTML = docLinkHtml;\n",
              "          element.appendChild(docLink);\n",
              "        }\n",
              "      </script>\n",
              "    </div>\n",
              "  </div>\n",
              "  "
            ],
            "text/plain": [
              "   id                                           sentence  difficulty  \\\n",
              "0   0  Les coûts kilométriques réels peuvent diverger...           4   \n",
              "1   1  Le bleu c est ma couleur préférée mais je n ai...           0   \n",
              "2   2  Le test de niveau en français est sur le site ...           0   \n",
              "3   3            Est ce que ton mari est aussi de Boston           0   \n",
              "4   4  Dans les écoles de commerce dans les couloirs ...           2   \n",
              "\n",
              "   difficulty_encoded  \n",
              "0                   4  \n",
              "1                   0  \n",
              "2                   0  \n",
              "3                   0  \n",
              "4                   2  "
            ]
          },
          "execution_count": 130,
          "metadata": {},
          "output_type": "execute_result"
        }
      ]
    },
    {
      "cell_type": "code",
      "source": [
        "# selecting different variables\n",
        "X2 = df2['sentence']\n",
        "y2 = df2['difficulty']\n",
        "\n",
        "# Split data into training and testing sets\n",
        "X2_train, X2_test, y2_train, y2_test = train_test_split(X2, y2, test_size=0.2)"
      ],
      "metadata": {
        "id": "4jUs8MBdv_rv"
      },
      "execution_count": 131,
      "outputs": []
    },
    {
      "cell_type": "code",
      "source": [
        "# Define classifier\n",
        "classifier2 = LogisticRegression()\n",
        "\n",
        "# Create pipeline \n",
        "pipe_reg2 = Pipeline([('vectorizer', tfidfVectorizer),\n",
        "                      ('classifier', classifier2)])\n",
        "\n",
        "# fitting pipeline\n",
        "pipe_reg2.fit(X2_train, y2_train)\n",
        "\n",
        "# making predictions with this model and data cleaned\n",
        "y2_pred_reg = pipe_reg2.predict(X2_test)"
      ],
      "metadata": {
        "id": "z6J98OvnwIi0"
      },
      "execution_count": 132,
      "outputs": []
    },
    {
      "cell_type": "markdown",
      "source": [
        "Calculate accuracy, precision, recall and F1 score on the test set.\n"
      ],
      "metadata": {
        "id": "1_M2xxmYwZ31"
      }
    },
    {
      "cell_type": "code",
      "source": [
        "print_classification_report(y2_test, y2_pred_reg)"
      ],
      "metadata": {
        "id": "Ez_mwCbjwaSI"
      },
      "execution_count": null,
      "outputs": []
    },
    {
      "cell_type": "code",
      "source": [
        "print_classification_metrics(y2_test, y2_pred_reg)"
      ],
      "metadata": {
        "id": "-2nr-WEhrMG7"
      },
      "execution_count": null,
      "outputs": []
    },
    {
      "cell_type": "markdown",
      "source": [
        "Try to improve the model by removing stopwords."
      ],
      "metadata": {
        "id": "L_ExLJ64wtH2"
      }
    },
    {
      "cell_type": "code",
      "source": [
        "# from nltk.corpus import stopwords\n",
        "import nltk\n",
        "from nltk.corpus import stopwords\n",
        "nltk.download('stopwords')"
      ],
      "metadata": {
        "id": "wAuQ4xDRw-3V"
      },
      "execution_count": null,
      "outputs": []
    },
    {
      "cell_type": "code",
      "source": [
        "# Load the list of French stopwords\n",
        "french_stopwords = stopwords.words('french')\n",
        "print(french_stopwords)\n",
        "\n",
        "# Define a function to remove stopwords from a string\n",
        "def remove_stopwords(df2):\n",
        "    # Tokenize the string into words\n",
        "    words = nltk.word_tokenize(string)\n",
        "    \n",
        "    # Remove the stopwords\n",
        "    filtered_words = [word for word in words if word.lower() not in french_stopwords]\n",
        "    \n",
        "    # Join the filtered words back into a single string\n",
        "    filtered_string = ' '.join(filtered_words)\n",
        "    \n",
        "    return filtered_string\n"
      ],
      "metadata": {
        "id": "a_KF182ww18K",
        "colab": {
          "base_uri": "https://localhost:8080/"
        },
        "outputId": "eb588580-5e9e-498d-c9e0-b6964c3ba909"
      },
      "execution_count": 136,
      "outputs": [
        {
          "output_type": "stream",
          "name": "stdout",
          "text": [
            "['au', 'aux', 'avec', 'ce', 'ces', 'dans', 'de', 'des', 'du', 'elle', 'en', 'et', 'eux', 'il', 'ils', 'je', 'la', 'le', 'les', 'leur', 'lui', 'ma', 'mais', 'me', 'même', 'mes', 'moi', 'mon', 'ne', 'nos', 'notre', 'nous', 'on', 'ou', 'par', 'pas', 'pour', 'qu', 'que', 'qui', 'sa', 'se', 'ses', 'son', 'sur', 'ta', 'te', 'tes', 'toi', 'ton', 'tu', 'un', 'une', 'vos', 'votre', 'vous', 'c', 'd', 'j', 'l', 'à', 'm', 'n', 's', 't', 'y', 'été', 'étée', 'étées', 'étés', 'étant', 'étante', 'étants', 'étantes', 'suis', 'es', 'est', 'sommes', 'êtes', 'sont', 'serai', 'seras', 'sera', 'serons', 'serez', 'seront', 'serais', 'serait', 'serions', 'seriez', 'seraient', 'étais', 'était', 'étions', 'étiez', 'étaient', 'fus', 'fut', 'fûmes', 'fûtes', 'furent', 'sois', 'soit', 'soyons', 'soyez', 'soient', 'fusse', 'fusses', 'fût', 'fussions', 'fussiez', 'fussent', 'ayant', 'ayante', 'ayantes', 'ayants', 'eu', 'eue', 'eues', 'eus', 'ai', 'as', 'avons', 'avez', 'ont', 'aurai', 'auras', 'aura', 'aurons', 'aurez', 'auront', 'aurais', 'aurait', 'aurions', 'auriez', 'auraient', 'avais', 'avait', 'avions', 'aviez', 'avaient', 'eut', 'eûmes', 'eûtes', 'eurent', 'aie', 'aies', 'ait', 'ayons', 'ayez', 'aient', 'eusse', 'eusses', 'eût', 'eussions', 'eussiez', 'eussent']\n"
          ]
        }
      ]
    },
    {
      "cell_type": "code",
      "source": [
        "df3 = df2.copy()"
      ],
      "metadata": {
        "id": "zowO5RY-xF33"
      },
      "execution_count": 137,
      "outputs": []
    },
    {
      "cell_type": "code",
      "source": [
        "def remove_stopwords(string):\n",
        "    # Tokenize the string into words\n",
        "    words = nltk.word_tokenize(string)\n",
        "    \n",
        "    # Remove the stopwords\n",
        "    filtered_words = [word for word in words if word.lower() not in french_stopwords]\n",
        "    \n",
        "    # Join the filtered words back into a single string\n",
        "    filtered_string = ' '.join(filtered_words)\n",
        "    \n",
        "    return filtered_string\n",
        "\n",
        "try:\n",
        "    df3['sentence'] = df3['sentence'].apply(remove_stopwords)\n",
        "except TypeError as e:\n",
        "    # Print the value of the cell that caused the error\n",
        "    print(e)\n",
        "    print(df3['sentence'][e.row])\n",
        "\n",
        "# Apply the function to the 'string_column' column of the DataFrame\n",
        "df3['sentence'] = df3['sentence'].apply(remove_stopwords)\n",
        "\n",
        "# Display df3 to see if it worked\n",
        "df3.head()"
      ],
      "metadata": {
        "id": "I8Qi5c_oxWqH",
        "colab": {
          "base_uri": "https://localhost:8080/",
          "height": 201
        },
        "outputId": "e37a45d8-9831-4ab2-d8b9-85e2997abd05"
      },
      "execution_count": 138,
      "outputs": [
        {
          "output_type": "execute_result",
          "data": {
            "text/plain": [
              "   id                                           sentence  difficulty  \\\n",
              "0   0  coûts kilométriques réels peuvent diverger sen...           4   \n",
              "1   1                    bleu couleur préférée aime vert           0   \n",
              "2   2           test niveau français site Internet école           0   \n",
              "3   3                                  mari aussi Boston           0   \n",
              "4   4  écoles commerce couloirs places financières ar...           2   \n",
              "\n",
              "   difficulty_encoded  \n",
              "0                   4  \n",
              "1                   0  \n",
              "2                   0  \n",
              "3                   0  \n",
              "4                   2  "
            ],
            "text/html": [
              "\n",
              "  <div id=\"df-a29f5255-ee35-49d8-948d-fda6cea97220\">\n",
              "    <div class=\"colab-df-container\">\n",
              "      <div>\n",
              "<style scoped>\n",
              "    .dataframe tbody tr th:only-of-type {\n",
              "        vertical-align: middle;\n",
              "    }\n",
              "\n",
              "    .dataframe tbody tr th {\n",
              "        vertical-align: top;\n",
              "    }\n",
              "\n",
              "    .dataframe thead th {\n",
              "        text-align: right;\n",
              "    }\n",
              "</style>\n",
              "<table border=\"1\" class=\"dataframe\">\n",
              "  <thead>\n",
              "    <tr style=\"text-align: right;\">\n",
              "      <th></th>\n",
              "      <th>id</th>\n",
              "      <th>sentence</th>\n",
              "      <th>difficulty</th>\n",
              "      <th>difficulty_encoded</th>\n",
              "    </tr>\n",
              "  </thead>\n",
              "  <tbody>\n",
              "    <tr>\n",
              "      <th>0</th>\n",
              "      <td>0</td>\n",
              "      <td>coûts kilométriques réels peuvent diverger sen...</td>\n",
              "      <td>4</td>\n",
              "      <td>4</td>\n",
              "    </tr>\n",
              "    <tr>\n",
              "      <th>1</th>\n",
              "      <td>1</td>\n",
              "      <td>bleu couleur préférée aime vert</td>\n",
              "      <td>0</td>\n",
              "      <td>0</td>\n",
              "    </tr>\n",
              "    <tr>\n",
              "      <th>2</th>\n",
              "      <td>2</td>\n",
              "      <td>test niveau français site Internet école</td>\n",
              "      <td>0</td>\n",
              "      <td>0</td>\n",
              "    </tr>\n",
              "    <tr>\n",
              "      <th>3</th>\n",
              "      <td>3</td>\n",
              "      <td>mari aussi Boston</td>\n",
              "      <td>0</td>\n",
              "      <td>0</td>\n",
              "    </tr>\n",
              "    <tr>\n",
              "      <th>4</th>\n",
              "      <td>4</td>\n",
              "      <td>écoles commerce couloirs places financières ar...</td>\n",
              "      <td>2</td>\n",
              "      <td>2</td>\n",
              "    </tr>\n",
              "  </tbody>\n",
              "</table>\n",
              "</div>\n",
              "      <button class=\"colab-df-convert\" onclick=\"convertToInteractive('df-a29f5255-ee35-49d8-948d-fda6cea97220')\"\n",
              "              title=\"Convert this dataframe to an interactive table.\"\n",
              "              style=\"display:none;\">\n",
              "        \n",
              "  <svg xmlns=\"http://www.w3.org/2000/svg\" height=\"24px\"viewBox=\"0 0 24 24\"\n",
              "       width=\"24px\">\n",
              "    <path d=\"M0 0h24v24H0V0z\" fill=\"none\"/>\n",
              "    <path d=\"M18.56 5.44l.94 2.06.94-2.06 2.06-.94-2.06-.94-.94-2.06-.94 2.06-2.06.94zm-11 1L8.5 8.5l.94-2.06 2.06-.94-2.06-.94L8.5 2.5l-.94 2.06-2.06.94zm10 10l.94 2.06.94-2.06 2.06-.94-2.06-.94-.94-2.06-.94 2.06-2.06.94z\"/><path d=\"M17.41 7.96l-1.37-1.37c-.4-.4-.92-.59-1.43-.59-.52 0-1.04.2-1.43.59L10.3 9.45l-7.72 7.72c-.78.78-.78 2.05 0 2.83L4 21.41c.39.39.9.59 1.41.59.51 0 1.02-.2 1.41-.59l7.78-7.78 2.81-2.81c.8-.78.8-2.07 0-2.86zM5.41 20L4 18.59l7.72-7.72 1.47 1.35L5.41 20z\"/>\n",
              "  </svg>\n",
              "      </button>\n",
              "      \n",
              "  <style>\n",
              "    .colab-df-container {\n",
              "      display:flex;\n",
              "      flex-wrap:wrap;\n",
              "      gap: 12px;\n",
              "    }\n",
              "\n",
              "    .colab-df-convert {\n",
              "      background-color: #E8F0FE;\n",
              "      border: none;\n",
              "      border-radius: 50%;\n",
              "      cursor: pointer;\n",
              "      display: none;\n",
              "      fill: #1967D2;\n",
              "      height: 32px;\n",
              "      padding: 0 0 0 0;\n",
              "      width: 32px;\n",
              "    }\n",
              "\n",
              "    .colab-df-convert:hover {\n",
              "      background-color: #E2EBFA;\n",
              "      box-shadow: 0px 1px 2px rgba(60, 64, 67, 0.3), 0px 1px 3px 1px rgba(60, 64, 67, 0.15);\n",
              "      fill: #174EA6;\n",
              "    }\n",
              "\n",
              "    [theme=dark] .colab-df-convert {\n",
              "      background-color: #3B4455;\n",
              "      fill: #D2E3FC;\n",
              "    }\n",
              "\n",
              "    [theme=dark] .colab-df-convert:hover {\n",
              "      background-color: #434B5C;\n",
              "      box-shadow: 0px 1px 3px 1px rgba(0, 0, 0, 0.15);\n",
              "      filter: drop-shadow(0px 1px 2px rgba(0, 0, 0, 0.3));\n",
              "      fill: #FFFFFF;\n",
              "    }\n",
              "  </style>\n",
              "\n",
              "      <script>\n",
              "        const buttonEl =\n",
              "          document.querySelector('#df-a29f5255-ee35-49d8-948d-fda6cea97220 button.colab-df-convert');\n",
              "        buttonEl.style.display =\n",
              "          google.colab.kernel.accessAllowed ? 'block' : 'none';\n",
              "\n",
              "        async function convertToInteractive(key) {\n",
              "          const element = document.querySelector('#df-a29f5255-ee35-49d8-948d-fda6cea97220');\n",
              "          const dataTable =\n",
              "            await google.colab.kernel.invokeFunction('convertToInteractive',\n",
              "                                                     [key], {});\n",
              "          if (!dataTable) return;\n",
              "\n",
              "          const docLinkHtml = 'Like what you see? Visit the ' +\n",
              "            '<a target=\"_blank\" href=https://colab.research.google.com/notebooks/data_table.ipynb>data table notebook</a>'\n",
              "            + ' to learn more about interactive tables.';\n",
              "          element.innerHTML = '';\n",
              "          dataTable['output_type'] = 'display_data';\n",
              "          await google.colab.output.renderOutput(dataTable, element);\n",
              "          const docLink = document.createElement('div');\n",
              "          docLink.innerHTML = docLinkHtml;\n",
              "          element.appendChild(docLink);\n",
              "        }\n",
              "      </script>\n",
              "    </div>\n",
              "  </div>\n",
              "  "
            ]
          },
          "metadata": {},
          "execution_count": 138
        }
      ]
    },
    {
      "cell_type": "code",
      "source": [
        "\n",
        "X3 = df3['sentence']\n",
        "y3 = df3['difficulty']\n",
        "\n",
        "X3_train, X3_test, y3_train, y3_test = train_test_split(X3, y3, test_size=0.2)"
      ],
      "metadata": {
        "id": "wqICe0rpxq2u"
      },
      "execution_count": null,
      "outputs": []
    },
    {
      "cell_type": "code",
      "source": [
        "# selecting the classifier\n",
        "classifier3 = LogisticRegression()\n",
        "\n",
        "# creating pipeline\n",
        "pipe_reg3 = Pipeline([('vectorizer', tfidfVectorizer),\n",
        "                      ('classifier', classifier3)])\n",
        "\n",
        "# fit pipeline\n",
        "pipe_reg3.fit(X2_train, y_train)\n",
        "\n",
        "# making a prediction with this dataframe with this cleaned data\n",
        "y3_pred_reg = pipe_reg3.predict(X3_test)\n",
        "\n"
      ],
      "metadata": {
        "id": "MrfU97FJyERS"
      },
      "execution_count": 140,
      "outputs": []
    },
    {
      "cell_type": "code",
      "source": [
        "# print classification with LogisticRegression\n",
        "print_classification_report(y3_test, y3_pred_reg)"
      ],
      "metadata": {
        "id": "40YzCPGNrUMF"
      },
      "execution_count": null,
      "outputs": []
    },
    {
      "cell_type": "code",
      "source": [
        "print_classification_metrics(y3_test, y3_pred_reg)"
      ],
      "metadata": {
        "id": "qtW0T3QUruCT",
        "colab": {
          "base_uri": "https://localhost:8080/"
        },
        "outputId": "4f74a86c-c347-4d09-b5bc-f6b091b777a7"
      },
      "execution_count": 142,
      "outputs": [
        {
          "output_type": "stream",
          "name": "stdout",
          "text": [
            "Accuracy: 0.1656\n",
            "Recall: 0.1656\n",
            "F1 Score: 0.1658\n"
          ]
        }
      ]
    },
    {
      "cell_type": "code",
      "source": [
        "# selecting the classifier\n",
        "reg_knn3 = KNeighborsClassifier()\n",
        "\n",
        "# creating the pipeline\n",
        "pipe_knn3 = Pipeline([('vectorizer', tfidfVectorizer),\n",
        "                      ('classifier', reg_knn3)])\n",
        "\n",
        "# fit the pipeline\n",
        "pipe_knn3 = pipe_knn3.fit(X3_train, y_train)\n",
        "\n",
        "# making prediction with knn and cleaned data\n",
        "y3_pred_knn = pipe_knn3.predict(X3_test)\n",
        "\n",
        "# print classification report with this model\n",
        "print_classification_report(y3_test, y3_pred_knn)"
      ],
      "metadata": {
        "id": "MSOJHu4Vy7d_",
        "colab": {
          "base_uri": "https://localhost:8080/"
        },
        "outputId": "2ba8e160-6c6a-449c-896b-4b00837d6c12"
      },
      "execution_count": 143,
      "outputs": [
        {
          "output_type": "stream",
          "name": "stdout",
          "text": [
            "              precision    recall  f1-score   support\n",
            "\n",
            "           0       0.18      0.17      0.18       167\n",
            "           1       0.18      0.44      0.25       157\n",
            "           2       0.17      0.08      0.11       139\n",
            "           3       0.25      0.13      0.17       151\n",
            "           4       0.21      0.26      0.24       180\n",
            "           5       0.40      0.10      0.16       166\n",
            "\n",
            "    accuracy                           0.20       960\n",
            "   macro avg       0.23      0.20      0.18       960\n",
            "weighted avg       0.23      0.20      0.19       960\n",
            "\n"
          ]
        }
      ]
    },
    {
      "cell_type": "code",
      "source": [
        "print_classification_metrics(y3_test, y3_pred_knn)"
      ],
      "metadata": {
        "id": "toRQevx8sDGZ",
        "colab": {
          "base_uri": "https://localhost:8080/"
        },
        "outputId": "5b88af33-f5a8-44c3-d210-181f564ef01e"
      },
      "execution_count": 144,
      "outputs": [
        {
          "output_type": "stream",
          "name": "stdout",
          "text": [
            "Accuracy: 0.2000\n",
            "Recall: 0.2000\n",
            "F1 Score: 0.1858\n"
          ]
        }
      ]
    },
    {
      "cell_type": "markdown",
      "source": [
        "Trying to improve accuracy by using Aglomerative Clustering"
      ],
      "metadata": {
        "id": "FlFU3-5Y1S2_"
      }
    },
    {
      "cell_type": "code",
      "source": [
        "# import packages\n",
        "from sklearn.cluster import AgglomerativeClustering\n",
        "from scipy.cluster.hierarchy import dendrogram\n",
        "from sklearn.metrics import adjusted_rand_score"
      ],
      "metadata": {
        "id": "t2GYn4-R2dHE"
      },
      "execution_count": 145,
      "outputs": []
    },
    {
      "cell_type": "code",
      "source": [
        "# making copy of the dart\n",
        "df5 = df2.copy()\n",
        "\n",
        "X5 = df5['sentence']\n",
        "y5 = df5['difficulty']\n",
        "\n",
        "X5_train, X5_test, y5_train, y5_test = train_test_split(X5, y5, test_size=0.2)"
      ],
      "metadata": {
        "id": "4FOG2zEE1UAF"
      },
      "execution_count": 146,
      "outputs": []
    },
    {
      "cell_type": "code",
      "source": [
        "# Use a TfidfVectorizer to create a vector representation of each text\n",
        "X5_train = tfidfVectorizer.fit_transform(X5_train)\n",
        "X5_test = tfidfVectorizer.fit_transform(X5_test)"
      ],
      "metadata": {
        "id": "Rwwyykux2lME"
      },
      "execution_count": 147,
      "outputs": []
    },
    {
      "cell_type": "code",
      "source": [
        "# Converting the sparse matrix X5_train to a dense array for further processing.\n",
        "X5_train_dense = X5_train.toarray()\n",
        "\n",
        "# use clustering\n",
        "clustering5 = AgglomerativeClustering(n_clusters=5, affinity='l1', linkage='single')\n",
        "clustering5.fit(X5_train_dense)\n",
        "\n",
        "# fit datas\n",
        "cluster_labels = clustering5.fit_predict(X5_train_dense)\n",
        "\n",
        "# making a prediction with this model\n",
        "score = adjusted_rand_score(y5_train, cluster_labels)\n",
        "print(f'Adjusted Rand score: {score:}')"
      ],
      "metadata": {
        "id": "slzkKyNH25dC",
        "colab": {
          "base_uri": "https://localhost:8080/"
        },
        "outputId": "23cc5fec-627f-4eea-e890-1e6cabaa2045"
      },
      "execution_count": 148,
      "outputs": [
        {
          "output_type": "stream",
          "name": "stdout",
          "text": [
            "Adjusted Rand score: -3.0239536095352023e-05\n"
          ]
        }
      ]
    },
    {
      "cell_type": "markdown",
      "source": [
        "very low level of agreement between the two clusterings"
      ],
      "metadata": {
        "id": "yLhXIuxx4Uqg"
      }
    },
    {
      "cell_type": "markdown",
      "source": [
        "Trying to improve accuracy by using meta-models"
      ],
      "metadata": {
        "id": "WKkMU5ZB4xOx"
      }
    },
    {
      "cell_type": "code",
      "source": [
        "# Create a new dataset with the predictions made by the base models and the true labels\n",
        "stacking_data = pd.DataFrame({'classifier2': y2_pred_reg, 'reg2_rand_f':y_pred_rand_f, 'true_label':y2_test})\n",
        "\n",
        "# Train a meta-model on the new dataset\n",
        "meta_model = LogisticRegression()\n",
        "meta_model.fit(stacking_data[['classifier2', 'reg2_rand_f']], stacking_data['true_label'])\n",
        "\n",
        "# making a prediction with the meta-model\n",
        "meta_predictions = (y2_pred_reg + y_pred_rand_f) / 2"
      ],
      "metadata": {
        "id": "eKKeyKgS46Dw"
      },
      "execution_count": null,
      "outputs": []
    },
    {
      "cell_type": "code",
      "source": [
        "# Evaluate the accuracy of the meta-prediction\n",
        "accuracy = (meta_predictions == y_test).mean()\n",
        "print(f'Meta-prediction accuracy: {accuracy:}')"
      ],
      "metadata": {
        "id": "4i-kuRjL6Nk3"
      },
      "execution_count": null,
      "outputs": []
    },
    {
      "cell_type": "code",
      "source": [],
      "metadata": {
        "id": "OG26Ubyl7cXo"
      },
      "execution_count": null,
      "outputs": []
    },
    {
      "cell_type": "markdown",
      "source": [],
      "metadata": {
        "id": "4-hcap8c7dyS"
      }
    },
    {
      "cell_type": "code",
      "source": [
        "!pip install evaluate\n",
        "!pip install datasets\n",
        "!pip install sentencepiece\n",
        "!pip install transformers"
      ],
      "metadata": {
        "id": "SngliwKR7lvR"
      },
      "execution_count": null,
      "outputs": []
    },
    {
      "cell_type": "code",
      "source": [
        "from google.colab import drive\n",
        "drive.mount('/content/drive', force_remount=True)"
      ],
      "metadata": {
        "id": "bbHJw3G07lob"
      },
      "execution_count": null,
      "outputs": []
    },
    {
      "cell_type": "code",
      "source": [
        "import pandas as pd\n",
        "import os\n",
        "import numpy as np\n",
        "import torch\n",
        "import torch.nn.functional as F\n",
        "from datasets import load_dataset\n",
        "from sklearn.model_selection import train_test_split\n",
        "from transformers import CamembertTokenizer, CamembertForSequenceClassification"
      ],
      "metadata": {
        "id": "oNrud34sLR7Y"
      },
      "execution_count": null,
      "outputs": []
    },
    {
      "cell_type": "code",
      "source": [
        "path = \"drive/MyDrive\"\n",
        "\n",
        "data = pd.read_csv(os.path.join(path, \"training_data.csv\"))\n",
        "data[\"labels\"] = pd.Categorical(data[\"difficulty\"]).codes\n",
        "# data[\"labels\"] = data[\"labels\"].apply(lambda x: F.one_hot(x=torch.tensor(x), num_classes=6))"
      ],
      "metadata": {
        "id": "VkgnhrJ9LR4b"
      },
      "execution_count": null,
      "outputs": []
    },
    {
      "cell_type": "code",
      "source": [
        "train, test = train_test_split(data, test_size=0.2, stratify=data[\"labels\"].to_list(), random_state=42)"
      ],
      "metadata": {
        "id": "9OFUsJs0LR1r"
      },
      "execution_count": null,
      "outputs": []
    },
    {
      "cell_type": "code",
      "source": [
        "!mkdir \"drive/MyDrive/training\"\n",
        "\n",
        "train.to_csv(os.path.join(path, \"training\", \"train.csv\"), index=False)\n",
        "test.to_csv(os.path.join(path, \"training\", \"test.csv\"), index=False)\n"
      ],
      "metadata": {
        "id": "FOImtAzdLRzC"
      },
      "execution_count": null,
      "outputs": []
    },
    {
      "cell_type": "code",
      "source": [
        "data = load_dataset(os.path.join(path, \"training\"))"
      ],
      "metadata": {
        "id": "P9zagDcVLRwX"
      },
      "execution_count": null,
      "outputs": []
    },
    {
      "cell_type": "code",
      "source": [
        "data = data.remove_columns([\"id\", \"difficulty\"])"
      ],
      "metadata": {
        "id": "dEmDocrMLRtn"
      },
      "execution_count": null,
      "outputs": []
    },
    {
      "cell_type": "code",
      "source": [
        "id2label = {0: \"A1\", 1: \"A2\", 2: \"B1\", 3: \"B2\", 4: \"C1\", 5: \"C2\"}\n",
        "label2id = {\"A1\": 0, \"A2\": 1, \"B1\": 2, \"B2\": 3, \"C1\": 4, \"C2\": 5}"
      ],
      "metadata": {
        "id": "ifQF4j8dLRq_"
      },
      "execution_count": null,
      "outputs": []
    },
    {
      "cell_type": "code",
      "source": [
        "tokenizer = CamembertTokenizer.from_pretrained(\"camembert-base\")\n",
        "model = CamembertForSequenceClassification.from_pretrained(\"camembert-base\", num_labels=6, id2label=id2label, label2id=label2id)"
      ],
      "metadata": {
        "id": "gYTDJvLxLRoX"
      },
      "execution_count": null,
      "outputs": []
    },
    {
      "cell_type": "code",
      "source": [
        "import evaluate\n",
        "\n",
        "accuracy = evaluate.load(\"accuracy\")\n",
        "\n",
        "def compute_metrics(eval_pred):\n",
        "    predictions, labels = eval_pred\n",
        "    predictions = np.argmax(predictions, axis=1)\n",
        "    return accuracy.compute(predictions=predictions, references=labels)"
      ],
      "metadata": {
        "id": "c2MeI0vhLRlx"
      },
      "execution_count": null,
      "outputs": []
    },
    {
      "cell_type": "code",
      "source": [
        "def preprocess_function(examples):\n",
        "    return tokenizer(examples[\"sentence\"], truncation=True, max_length=512, padding=\"max_length\", return_tensors=\"pt\")\n",
        "\n",
        "tokenized_data = data.map(preprocess_function, batched=True)\n",
        "tokenized_data.set_format(\"pt\", columns = [\"input_ids\", \"attention_mask\"], output_all_columns=True)\n",
        "tokenized_data = tokenized_data.remove_columns([\"sentence\"])\n"
      ],
      "metadata": {
        "id": "6nW36gmxLRjF"
      },
      "execution_count": null,
      "outputs": []
    },
    {
      "cell_type": "code",
      "source": [
        "from transformers import DataCollatorWithPadding\n",
        "\n",
        "data_collator = DataCollatorWithPadding(tokenizer=tokenizer)\n"
      ],
      "metadata": {
        "id": "ho-CfYN9LRgk"
      },
      "execution_count": null,
      "outputs": []
    },
    {
      "cell_type": "code",
      "source": [
        "torch.cuda.empty_cache()"
      ],
      "metadata": {
        "id": "FrUdH1VULRd9"
      },
      "execution_count": null,
      "outputs": []
    },
    {
      "cell_type": "code",
      "source": [
        "from transformers import TrainingArguments, Trainer\n",
        "\n",
        "training_args = TrainingArguments(\n",
        "    output_dir=\"trained_model\",\n",
        "    learning_rate=2e-5,\n",
        "    per_device_train_batch_size=16,\n",
        "    per_device_eval_batch_size=16,\n",
        "    num_train_epochs=5,\n",
        "    weight_decay=0.001,\n",
        "    evaluation_strategy=\"epoch\",\n",
        "    save_strategy=\"epoch\",\n",
        "    load_best_model_at_end=True,\n",
        "    push_to_hub=False,\n",
        ")\n",
        "\n",
        "trainer_01 = Trainer(\n",
        "    model=model,\n",
        "    args=training_args,\n",
        "    train_dataset=tokenized_data[\"train\"],\n",
        "    eval_dataset=tokenized_data[\"test\"],\n",
        "    tokenizer=tokenizer,\n",
        "    data_collator=data_collator,\n",
        "    compute_metrics=compute_metrics,\n",
        ")\n",
        "\n",
        "trainer_01.train()\n",
        "\n"
      ],
      "metadata": {
        "colab": {
          "base_uri": "https://localhost:8080/",
          "height": 364
        },
        "id": "q8SQxZHta7jX",
        "outputId": "819be76c-2df7-494c-fd0d-04fd137bbb64"
      },
      "execution_count": null,
      "outputs": [
        {
          "output_type": "error",
          "ename": "TypeError",
          "evalue": "ignored",
          "traceback": [
            "\u001b[0;31m---------------------------------------------------------------------------\u001b[0m",
            "\u001b[0;31mTypeError\u001b[0m                                 Traceback (most recent call last)",
            "\u001b[0;32m<ipython-input-91-ec934ede5f2b>\u001b[0m in \u001b[0;36m<module>\u001b[0;34m\u001b[0m\n\u001b[1;32m     14\u001b[0m )\n\u001b[1;32m     15\u001b[0m \u001b[0;34m\u001b[0m\u001b[0m\n\u001b[0;32m---> 16\u001b[0;31m trainer_01 = Trainer(\n\u001b[0m\u001b[1;32m     17\u001b[0m     \u001b[0mmodel\u001b[0m\u001b[0;34m=\u001b[0m\u001b[0mmodel\u001b[0m\u001b[0;34m,\u001b[0m\u001b[0;34m\u001b[0m\u001b[0;34m\u001b[0m\u001b[0m\n\u001b[1;32m     18\u001b[0m     \u001b[0margs\u001b[0m\u001b[0;34m=\u001b[0m\u001b[0mtraining_args\u001b[0m\u001b[0;34m,\u001b[0m\u001b[0;34m\u001b[0m\u001b[0;34m\u001b[0m\u001b[0m\n",
            "\u001b[0;32m/usr/local/lib/python3.8/dist-packages/transformers/trainer.py\u001b[0m in \u001b[0;36m__init__\u001b[0;34m(self, model, args, data_collator, train_dataset, eval_dataset, tokenizer, model_init, compute_metrics, callbacks, optimizers, preprocess_logits_for_metrics)\u001b[0m\n\u001b[1;32m    313\u001b[0m         \u001b[0mself\u001b[0m\u001b[0;34m.\u001b[0m\u001b[0margs\u001b[0m \u001b[0;34m=\u001b[0m \u001b[0margs\u001b[0m\u001b[0;34m\u001b[0m\u001b[0;34m\u001b[0m\u001b[0m\n\u001b[1;32m    314\u001b[0m         \u001b[0;31m# Seed must be set before instantiating the model when using model\u001b[0m\u001b[0;34m\u001b[0m\u001b[0;34m\u001b[0m\u001b[0;34m\u001b[0m\u001b[0m\n\u001b[0;32m--> 315\u001b[0;31m         \u001b[0menable_full_determinism\u001b[0m\u001b[0;34m(\u001b[0m\u001b[0mself\u001b[0m\u001b[0;34m.\u001b[0m\u001b[0margs\u001b[0m\u001b[0;34m.\u001b[0m\u001b[0mseed\u001b[0m\u001b[0;34m)\u001b[0m \u001b[0;32mif\u001b[0m \u001b[0mself\u001b[0m\u001b[0;34m.\u001b[0m\u001b[0margs\u001b[0m\u001b[0;34m.\u001b[0m\u001b[0mfull_determinism\u001b[0m \u001b[0;32melse\u001b[0m \u001b[0mset_seed\u001b[0m\u001b[0;34m(\u001b[0m\u001b[0mself\u001b[0m\u001b[0;34m.\u001b[0m\u001b[0margs\u001b[0m\u001b[0;34m.\u001b[0m\u001b[0mseed\u001b[0m\u001b[0;34m)\u001b[0m\u001b[0;34m\u001b[0m\u001b[0;34m\u001b[0m\u001b[0m\n\u001b[0m\u001b[1;32m    316\u001b[0m         \u001b[0mself\u001b[0m\u001b[0;34m.\u001b[0m\u001b[0mhp_name\u001b[0m \u001b[0;34m=\u001b[0m \u001b[0;32mNone\u001b[0m\u001b[0;34m\u001b[0m\u001b[0;34m\u001b[0m\u001b[0m\n\u001b[1;32m    317\u001b[0m         \u001b[0mself\u001b[0m\u001b[0;34m.\u001b[0m\u001b[0mdeepspeed\u001b[0m \u001b[0;34m=\u001b[0m \u001b[0;32mNone\u001b[0m\u001b[0;34m\u001b[0m\u001b[0;34m\u001b[0m\u001b[0m\n",
            "\u001b[0;32m/usr/local/lib/python3.8/dist-packages/transformers/trainer_utils.py\u001b[0m in \u001b[0;36mset_seed\u001b[0;34m(seed)\u001b[0m\n\u001b[1;32m     89\u001b[0m     \"\"\"\n\u001b[1;32m     90\u001b[0m     \u001b[0mrandom\u001b[0m\u001b[0;34m.\u001b[0m\u001b[0mseed\u001b[0m\u001b[0;34m(\u001b[0m\u001b[0mseed\u001b[0m\u001b[0;34m)\u001b[0m\u001b[0;34m\u001b[0m\u001b[0;34m\u001b[0m\u001b[0m\n\u001b[0;32m---> 91\u001b[0;31m     \u001b[0mnp\u001b[0m\u001b[0;34m.\u001b[0m\u001b[0mrandom\u001b[0m\u001b[0;34m.\u001b[0m\u001b[0mseed\u001b[0m\u001b[0;34m(\u001b[0m\u001b[0mseed\u001b[0m\u001b[0;34m)\u001b[0m\u001b[0;34m\u001b[0m\u001b[0;34m\u001b[0m\u001b[0m\n\u001b[0m\u001b[1;32m     92\u001b[0m     \u001b[0;32mif\u001b[0m \u001b[0mis_torch_available\u001b[0m\u001b[0;34m(\u001b[0m\u001b[0;34m)\u001b[0m\u001b[0;34m:\u001b[0m\u001b[0;34m\u001b[0m\u001b[0;34m\u001b[0m\u001b[0m\n\u001b[1;32m     93\u001b[0m         \u001b[0mtorch\u001b[0m\u001b[0;34m.\u001b[0m\u001b[0mmanual_seed\u001b[0m\u001b[0;34m(\u001b[0m\u001b[0mseed\u001b[0m\u001b[0;34m)\u001b[0m\u001b[0;34m\u001b[0m\u001b[0;34m\u001b[0m\u001b[0m\n",
            "\u001b[0;31mTypeError\u001b[0m: 'int' object is not callable"
          ]
        }
      ]
    },
    {
      "cell_type": "code",
      "source": [
        "i = 91\n",
        "\n",
        "print(data[\"test\"][\"sentence\"][i], data[\"test\"][\"labels\"][i])\n",
        "\n",
        "device = torch.device('cuda:0')\n",
        "input1 = torch.reshape(tokenized_data[\"test\"][\"input_ids\"][i], (1, -1)).to(device)\n",
        "input2 = torch.reshape(tokenized_data[\"test\"][\"attention_mask\"][i], (1, -1)).to(device)"
      ],
      "metadata": {
        "id": "vz5CrTQFLRYu"
      },
      "execution_count": null,
      "outputs": []
    },
    {
      "cell_type": "code",
      "source": [
        "model(input_ids= input1,\n",
        "      attention_mask = input2)"
      ],
      "metadata": {
        "id": "M4mJ0wnKLRWJ"
      },
      "execution_count": null,
      "outputs": []
    },
    {
      "cell_type": "markdown",
      "source": [
        "#### 2.7. Show a summary of your results"
      ],
      "metadata": {
        "id": "w7QLca8n6Ubg"
      }
    },
    {
      "cell_type": "code",
      "source": [
        "# logistic regression score\n",
        "print_classification_metrics(y_test, y_pred)"
      ],
      "metadata": {
        "id": "2lPjrFO2tVer"
      },
      "execution_count": null,
      "outputs": []
    },
    {
      "cell_type": "code",
      "source": [
        "# KNN score\n",
        "print_classification_metrics(y_test, y_pred_knn)"
      ],
      "metadata": {
        "id": "A9Xt5L7Rtauv"
      },
      "execution_count": null,
      "outputs": []
    },
    {
      "cell_type": "code",
      "source": [
        "#KNN score improved\n",
        "print_classification_metrics(y_test, y_pred_knn_improved)"
      ],
      "metadata": {
        "id": "JJwmGSthtayD"
      },
      "execution_count": null,
      "outputs": []
    },
    {
      "cell_type": "code",
      "source": [
        "# TREE score\n",
        "print_classification_metrics(y_test, y_pred_tree)"
      ],
      "metadata": {
        "id": "3Z8_4-dpta0r"
      },
      "execution_count": null,
      "outputs": []
    },
    {
      "cell_type": "code",
      "source": [
        "# TREE improved\n",
        "print_classification_metrics(y_test, y_pred_tree_improved)"
      ],
      "metadata": {
        "id": "lFOyfEtEta3R"
      },
      "execution_count": null,
      "outputs": []
    },
    {
      "cell_type": "code",
      "source": [
        "# RANDOM FOREST\n",
        "print_classification_metrics(y_test, y_pred_rand_f)"
      ],
      "metadata": {
        "id": "PnXesw-gta8d"
      },
      "execution_count": null,
      "outputs": []
    },
    {
      "cell_type": "code",
      "source": [
        "# STEMMED DATA\n",
        "print_classification_metrics(y2_test, y2_pred_reg)"
      ],
      "metadata": {
        "id": "grnjwa6Fta-6"
      },
      "execution_count": null,
      "outputs": []
    },
    {
      "cell_type": "code",
      "source": [
        "# REG WITH DATA CLEANED\n",
        "print_classification_metrics(y3_test, y3_pred_reg)"
      ],
      "metadata": {
        "id": "-6ncfQOJtbBI"
      },
      "execution_count": null,
      "outputs": []
    },
    {
      "cell_type": "code",
      "source": [
        "# KNN with data cleaned\n",
        "print_classification_metrics(y3_test, y3_pred_knn)"
      ],
      "metadata": {
        "id": "26OfbrTbtbDb"
      },
      "execution_count": null,
      "outputs": []
    },
    {
      "cell_type": "code",
      "source": [
        "# META-MODEL score\n",
        "print(f'Meta-prediction accuracy: {accuracy:}')"
      ],
      "metadata": {
        "id": "xQAOK4ZitoRf"
      },
      "execution_count": null,
      "outputs": []
    }
  ]
}